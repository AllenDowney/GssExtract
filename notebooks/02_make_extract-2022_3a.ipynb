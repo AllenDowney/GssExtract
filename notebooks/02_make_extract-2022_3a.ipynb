{
 "cells": [
  {
   "cell_type": "markdown",
   "metadata": {},
   "source": [
    "# Extract GSS 2022 r3\n",
    "\n",
    "Allen Downey\n",
    "\n",
    "[MIT License](https://en.wikipedia.org/wiki/MIT_License)"
   ]
  },
  {
   "cell_type": "code",
   "execution_count": 1,
   "metadata": {},
   "outputs": [],
   "source": [
    "import pandas as pd\n",
    "import numpy as np\n",
    "import matplotlib.pyplot as plt"
   ]
  },
  {
   "cell_type": "code",
   "execution_count": 2,
   "metadata": {},
   "outputs": [
    {
     "data": {
      "application/javascript": [
       "\n",
       "            setTimeout(function() {\n",
       "                var nbb_cell_id = 2;\n",
       "                var nbb_unformatted_code = \"%load_ext nb_black\";\n",
       "                var nbb_formatted_code = \"%load_ext nb_black\";\n",
       "                var nbb_cells = Jupyter.notebook.get_cells();\n",
       "                for (var i = 0; i < nbb_cells.length; ++i) {\n",
       "                    if (nbb_cells[i].input_prompt_number == nbb_cell_id) {\n",
       "                        if (nbb_cells[i].get_text() == nbb_unformatted_code) {\n",
       "                             nbb_cells[i].set_text(nbb_formatted_code);\n",
       "                        }\n",
       "                        break;\n",
       "                    }\n",
       "                }\n",
       "            }, 500);\n",
       "            "
      ],
      "text/plain": [
       "<IPython.core.display.Javascript object>"
      ]
     },
     "metadata": {},
     "output_type": "display_data"
    }
   ],
   "source": [
    "%load_ext nb_black"
   ]
  },
  {
   "cell_type": "markdown",
   "metadata": {},
   "source": [
    "Download the Stata data from https://gss.norc.org/get-the-data/stata\n",
    "\n",
    "Move to data/raw and unzip\n"
   ]
  },
  {
   "cell_type": "code",
   "execution_count": 3,
   "metadata": {},
   "outputs": [
    {
     "name": "stdout",
     "output_type": "stream",
     "text": [
      "gss7221_r2.dta.gz  gss7222_r2.dta.gz   gss7222_r3.dta.gz\r\n",
      "gss7222_r1.dta.gz  gss7222_r3a.dta.gz  GSS_stata\r\n"
     ]
    },
    {
     "data": {
      "application/javascript": [
       "\n",
       "            setTimeout(function() {\n",
       "                var nbb_cell_id = 3;\n",
       "                var nbb_unformatted_code = \"!ls ../data/raw/\";\n",
       "                var nbb_formatted_code = \"!ls ../data/raw/\";\n",
       "                var nbb_cells = Jupyter.notebook.get_cells();\n",
       "                for (var i = 0; i < nbb_cells.length; ++i) {\n",
       "                    if (nbb_cells[i].input_prompt_number == nbb_cell_id) {\n",
       "                        if (nbb_cells[i].get_text() == nbb_unformatted_code) {\n",
       "                             nbb_cells[i].set_text(nbb_formatted_code);\n",
       "                        }\n",
       "                        break;\n",
       "                    }\n",
       "                }\n",
       "            }, 500);\n",
       "            "
      ],
      "text/plain": [
       "<IPython.core.display.Javascript object>"
      ]
     },
     "metadata": {},
     "output_type": "display_data"
    }
   ],
   "source": [
    "!ls ../data/raw/"
   ]
  },
  {
   "cell_type": "code",
   "execution_count": 4,
   "metadata": {},
   "outputs": [
    {
     "data": {
      "application/javascript": [
       "\n",
       "            setTimeout(function() {\n",
       "                var nbb_cell_id = 4;\n",
       "                var nbb_unformatted_code = \"filename = \\\"../data/raw/gss7222_r3a.dta.gz\\\"\";\n",
       "                var nbb_formatted_code = \"filename = \\\"../data/raw/gss7222_r3a.dta.gz\\\"\";\n",
       "                var nbb_cells = Jupyter.notebook.get_cells();\n",
       "                for (var i = 0; i < nbb_cells.length; ++i) {\n",
       "                    if (nbb_cells[i].input_prompt_number == nbb_cell_id) {\n",
       "                        if (nbb_cells[i].get_text() == nbb_unformatted_code) {\n",
       "                             nbb_cells[i].set_text(nbb_formatted_code);\n",
       "                        }\n",
       "                        break;\n",
       "                    }\n",
       "                }\n",
       "            }, 500);\n",
       "            "
      ],
      "text/plain": [
       "<IPython.core.display.Javascript object>"
      ]
     },
     "metadata": {},
     "output_type": "display_data"
    }
   ],
   "source": [
    "filename = \"../data/raw/gss7222_r3a.dta.gz\""
   ]
  },
  {
   "cell_type": "code",
   "execution_count": 5,
   "metadata": {},
   "outputs": [
    {
     "data": {
      "application/javascript": [
       "\n",
       "            setTimeout(function() {\n",
       "                var nbb_cell_id = 5;\n",
       "                var nbb_unformatted_code = \"columns = sorted(\\n    [\\n        \\\"year\\\",\\n        \\\"id\\\",\\n        \\\"age\\\",\\n        \\\"cohort\\\",\\n        \\\"educ\\\",\\n        \\\"degree\\\",\\n        \\\"sex\\\",\\n        \\\"race\\\",\\n        \\\"res16\\\",\\n        \\\"reg16\\\",\\n        \\\"rincome\\\",\\n        \\\"region\\\",\\n        \\\"srcbelt\\\",\\n        \\\"partyid\\\",\\n        \\\"relig\\\",\\n        \\\"relig16\\\",\\n        \\\"fund\\\",\\n        \\\"attend\\\",\\n        \\\"reliten\\\",\\n        \\\"happy\\\",\\n        \\\"hapmar\\\",\\n        \\\"health\\\",\\n        \\\"life\\\",\\n        \\\"fear\\\",\\n        \\\"helpful\\\",\\n        \\\"fair\\\",\\n        \\\"trust\\\",\\n        \\\"confinan\\\",\\n        \\\"conbus\\\",\\n        \\\"conclerg\\\",\\n        \\\"coneduc\\\",\\n        \\\"confed\\\",\\n        \\\"conlabor\\\",\\n        \\\"conpress\\\",\\n        \\\"conmedic\\\",\\n        \\\"contv\\\",\\n        \\\"conjudge\\\",\\n        \\\"consci\\\",\\n        \\\"conlegis\\\",\\n        \\\"conarmy\\\",\\n        \\\"satjob\\\",\\n        \\\"class\\\",\\n        \\\"satfin\\\",\\n        \\\"goodlife\\\",\\n        \\\"ballot\\\",\\n        \\\"wtssall\\\",\\n        \\\"wtssps\\\",\\n        \\\"sexbirth\\\",\\n        \\\"sexnow\\\",\\n        \\\"eqwlth\\\",\\n        \\\"realinc\\\",\\n        \\\"realrinc\\\",\\n        \\\"coninc\\\",\\n        \\\"conrinc\\\",\\n        \\\"commun\\\",\\n        \\\"clmtcaus\\\",\\n        \\\"clmtwrld\\\",\\n        \\\"clmtusa\\\", \\n    ]\\n)\";\n",
       "                var nbb_formatted_code = \"columns = sorted(\\n    [\\n        \\\"year\\\",\\n        \\\"id\\\",\\n        \\\"age\\\",\\n        \\\"cohort\\\",\\n        \\\"educ\\\",\\n        \\\"degree\\\",\\n        \\\"sex\\\",\\n        \\\"race\\\",\\n        \\\"res16\\\",\\n        \\\"reg16\\\",\\n        \\\"rincome\\\",\\n        \\\"region\\\",\\n        \\\"srcbelt\\\",\\n        \\\"partyid\\\",\\n        \\\"relig\\\",\\n        \\\"relig16\\\",\\n        \\\"fund\\\",\\n        \\\"attend\\\",\\n        \\\"reliten\\\",\\n        \\\"happy\\\",\\n        \\\"hapmar\\\",\\n        \\\"health\\\",\\n        \\\"life\\\",\\n        \\\"fear\\\",\\n        \\\"helpful\\\",\\n        \\\"fair\\\",\\n        \\\"trust\\\",\\n        \\\"confinan\\\",\\n        \\\"conbus\\\",\\n        \\\"conclerg\\\",\\n        \\\"coneduc\\\",\\n        \\\"confed\\\",\\n        \\\"conlabor\\\",\\n        \\\"conpress\\\",\\n        \\\"conmedic\\\",\\n        \\\"contv\\\",\\n        \\\"conjudge\\\",\\n        \\\"consci\\\",\\n        \\\"conlegis\\\",\\n        \\\"conarmy\\\",\\n        \\\"satjob\\\",\\n        \\\"class\\\",\\n        \\\"satfin\\\",\\n        \\\"goodlife\\\",\\n        \\\"ballot\\\",\\n        \\\"wtssall\\\",\\n        \\\"wtssps\\\",\\n        \\\"sexbirth\\\",\\n        \\\"sexnow\\\",\\n        \\\"eqwlth\\\",\\n        \\\"realinc\\\",\\n        \\\"realrinc\\\",\\n        \\\"coninc\\\",\\n        \\\"conrinc\\\",\\n        \\\"commun\\\",\\n        \\\"clmtcaus\\\",\\n        \\\"clmtwrld\\\",\\n        \\\"clmtusa\\\",\\n    ]\\n)\";\n",
       "                var nbb_cells = Jupyter.notebook.get_cells();\n",
       "                for (var i = 0; i < nbb_cells.length; ++i) {\n",
       "                    if (nbb_cells[i].input_prompt_number == nbb_cell_id) {\n",
       "                        if (nbb_cells[i].get_text() == nbb_unformatted_code) {\n",
       "                             nbb_cells[i].set_text(nbb_formatted_code);\n",
       "                        }\n",
       "                        break;\n",
       "                    }\n",
       "                }\n",
       "            }, 500);\n",
       "            "
      ],
      "text/plain": [
       "<IPython.core.display.Javascript object>"
      ]
     },
     "metadata": {},
     "output_type": "display_data"
    }
   ],
   "source": [
    "columns = sorted(\n",
    "    [\n",
    "        \"year\",\n",
    "        \"id\",\n",
    "        \"age\",\n",
    "        \"cohort\",\n",
    "        \"educ\",\n",
    "        \"degree\",\n",
    "        \"sex\",\n",
    "        \"race\",\n",
    "        \"res16\",\n",
    "        \"reg16\",\n",
    "        \"rincome\",\n",
    "        \"region\",\n",
    "        \"srcbelt\",\n",
    "        \"partyid\",\n",
    "        \"relig\",\n",
    "        \"relig16\",\n",
    "        \"fund\",\n",
    "        \"attend\",\n",
    "        \"reliten\",\n",
    "        \"happy\",\n",
    "        \"hapmar\",\n",
    "        \"health\",\n",
    "        \"life\",\n",
    "        \"fear\",\n",
    "        \"helpful\",\n",
    "        \"fair\",\n",
    "        \"trust\",\n",
    "        \"confinan\",\n",
    "        \"conbus\",\n",
    "        \"conclerg\",\n",
    "        \"coneduc\",\n",
    "        \"confed\",\n",
    "        \"conlabor\",\n",
    "        \"conpress\",\n",
    "        \"conmedic\",\n",
    "        \"contv\",\n",
    "        \"conjudge\",\n",
    "        \"consci\",\n",
    "        \"conlegis\",\n",
    "        \"conarmy\",\n",
    "        \"satjob\",\n",
    "        \"class\",\n",
    "        \"satfin\",\n",
    "        \"goodlife\",\n",
    "        \"ballot\",\n",
    "        \"wtssall\",\n",
    "        \"wtssps\",\n",
    "        \"sexbirth\",\n",
    "        \"sexnow\",\n",
    "        \"eqwlth\",\n",
    "        \"realinc\",\n",
    "        \"realrinc\",\n",
    "        \"coninc\",\n",
    "        \"conrinc\",\n",
    "        \"commun\",\n",
    "        \"clmtcaus\",\n",
    "        \"clmtwrld\",\n",
    "        \"clmtusa\",\n",
    "    ]\n",
    ")"
   ]
  },
  {
   "cell_type": "code",
   "execution_count": 6,
   "metadata": {},
   "outputs": [
    {
     "data": {
      "application/javascript": [
       "\n",
       "            setTimeout(function() {\n",
       "                var nbb_cell_id = 6;\n",
       "                var nbb_unformatted_code = \"gss = pd.read_stata(filename, columns=columns, convert_categoricals=False)\";\n",
       "                var nbb_formatted_code = \"gss = pd.read_stata(filename, columns=columns, convert_categoricals=False)\";\n",
       "                var nbb_cells = Jupyter.notebook.get_cells();\n",
       "                for (var i = 0; i < nbb_cells.length; ++i) {\n",
       "                    if (nbb_cells[i].input_prompt_number == nbb_cell_id) {\n",
       "                        if (nbb_cells[i].get_text() == nbb_unformatted_code) {\n",
       "                             nbb_cells[i].set_text(nbb_formatted_code);\n",
       "                        }\n",
       "                        break;\n",
       "                    }\n",
       "                }\n",
       "            }, 500);\n",
       "            "
      ],
      "text/plain": [
       "<IPython.core.display.Javascript object>"
      ]
     },
     "metadata": {},
     "output_type": "display_data"
    }
   ],
   "source": [
    "gss = pd.read_stata(filename, columns=columns, convert_categoricals=False)"
   ]
  },
  {
   "cell_type": "code",
   "execution_count": 7,
   "metadata": {},
   "outputs": [
    {
     "data": {
      "text/plain": [
       "count    72390.000000\n",
       "mean         1.000014\n",
       "std          0.550871\n",
       "min          0.073972\n",
       "25%          0.549300\n",
       "50%          0.961700\n",
       "75%          1.098500\n",
       "max         14.272462\n",
       "Name: wtssall, dtype: float64"
      ]
     },
     "execution_count": 7,
     "metadata": {},
     "output_type": "execute_result"
    },
    {
     "data": {
      "application/javascript": [
       "\n",
       "            setTimeout(function() {\n",
       "                var nbb_cell_id = 7;\n",
       "                var nbb_unformatted_code = \"# weights are different in 2021 and 2022 so mixing them in might seem like a bad idea,\\n# but we only use them for resampling within one year of the survey,\\n# so I think it's ok\\ngss[\\\"wtssall\\\"].fillna(gss[\\\"wtssps\\\"], inplace=True)\\ngss[\\\"wtssall\\\"].describe()\";\n",
       "                var nbb_formatted_code = \"# weights are different in 2021 and 2022 so mixing them in might seem like a bad idea,\\n# but we only use them for resampling within one year of the survey,\\n# so I think it's ok\\ngss[\\\"wtssall\\\"].fillna(gss[\\\"wtssps\\\"], inplace=True)\\ngss[\\\"wtssall\\\"].describe()\";\n",
       "                var nbb_cells = Jupyter.notebook.get_cells();\n",
       "                for (var i = 0; i < nbb_cells.length; ++i) {\n",
       "                    if (nbb_cells[i].input_prompt_number == nbb_cell_id) {\n",
       "                        if (nbb_cells[i].get_text() == nbb_unformatted_code) {\n",
       "                             nbb_cells[i].set_text(nbb_formatted_code);\n",
       "                        }\n",
       "                        break;\n",
       "                    }\n",
       "                }\n",
       "            }, 500);\n",
       "            "
      ],
      "text/plain": [
       "<IPython.core.display.Javascript object>"
      ]
     },
     "metadata": {},
     "output_type": "display_data"
    }
   ],
   "source": [
    "# weights are different in 2021 and 2022 so mixing them in might seem like a bad idea,\n",
    "# but we only use them for resampling within one year of the survey,\n",
    "# so I think it's ok\n",
    "gss[\"wtssall\"].fillna(gss[\"wtssps\"], inplace=True)\n",
    "gss[\"wtssall\"].describe()"
   ]
  },
  {
   "cell_type": "code",
   "execution_count": 8,
   "metadata": {},
   "outputs": [
    {
     "data": {
      "application/javascript": [
       "\n",
       "            setTimeout(function() {\n",
       "                var nbb_cell_id = 8;\n",
       "                var nbb_unformatted_code = \"del gss[\\\"wtssps\\\"]\";\n",
       "                var nbb_formatted_code = \"del gss[\\\"wtssps\\\"]\";\n",
       "                var nbb_cells = Jupyter.notebook.get_cells();\n",
       "                for (var i = 0; i < nbb_cells.length; ++i) {\n",
       "                    if (nbb_cells[i].input_prompt_number == nbb_cell_id) {\n",
       "                        if (nbb_cells[i].get_text() == nbb_unformatted_code) {\n",
       "                             nbb_cells[i].set_text(nbb_formatted_code);\n",
       "                        }\n",
       "                        break;\n",
       "                    }\n",
       "                }\n",
       "            }, 500);\n",
       "            "
      ],
      "text/plain": [
       "<IPython.core.display.Javascript object>"
      ]
     },
     "metadata": {},
     "output_type": "display_data"
    }
   ],
   "source": [
    "del gss[\"wtssps\"]"
   ]
  },
  {
   "cell_type": "code",
   "execution_count": 9,
   "metadata": {},
   "outputs": [
    {
     "name": "stdout",
     "output_type": "stream",
     "text": [
      "(72390, 57)\n"
     ]
    },
    {
     "data": {
      "text/html": [
       "<div>\n",
       "<style scoped>\n",
       "    .dataframe tbody tr th:only-of-type {\n",
       "        vertical-align: middle;\n",
       "    }\n",
       "\n",
       "    .dataframe tbody tr th {\n",
       "        vertical-align: top;\n",
       "    }\n",
       "\n",
       "    .dataframe thead th {\n",
       "        text-align: right;\n",
       "    }\n",
       "</style>\n",
       "<table border=\"1\" class=\"dataframe\">\n",
       "  <thead>\n",
       "    <tr style=\"text-align: right;\">\n",
       "      <th></th>\n",
       "      <th>age</th>\n",
       "      <th>attend</th>\n",
       "      <th>ballot</th>\n",
       "      <th>class</th>\n",
       "      <th>clmtcaus</th>\n",
       "      <th>clmtusa</th>\n",
       "      <th>clmtwrld</th>\n",
       "      <th>cohort</th>\n",
       "      <th>commun</th>\n",
       "      <th>conarmy</th>\n",
       "      <th>...</th>\n",
       "      <th>rincome</th>\n",
       "      <th>satfin</th>\n",
       "      <th>satjob</th>\n",
       "      <th>sex</th>\n",
       "      <th>sexbirth</th>\n",
       "      <th>sexnow</th>\n",
       "      <th>srcbelt</th>\n",
       "      <th>trust</th>\n",
       "      <th>wtssall</th>\n",
       "      <th>year</th>\n",
       "    </tr>\n",
       "  </thead>\n",
       "  <tbody>\n",
       "    <tr>\n",
       "      <th>0</th>\n",
       "      <td>23.0</td>\n",
       "      <td>2.0</td>\n",
       "      <td>NaN</td>\n",
       "      <td>3.0</td>\n",
       "      <td>NaN</td>\n",
       "      <td>NaN</td>\n",
       "      <td>NaN</td>\n",
       "      <td>1949.0</td>\n",
       "      <td>NaN</td>\n",
       "      <td>NaN</td>\n",
       "      <td>...</td>\n",
       "      <td>NaN</td>\n",
       "      <td>3.0</td>\n",
       "      <td>3.0</td>\n",
       "      <td>2.0</td>\n",
       "      <td>NaN</td>\n",
       "      <td>NaN</td>\n",
       "      <td>3.0</td>\n",
       "      <td>3.0</td>\n",
       "      <td>0.4446</td>\n",
       "      <td>1972</td>\n",
       "    </tr>\n",
       "    <tr>\n",
       "      <th>1</th>\n",
       "      <td>70.0</td>\n",
       "      <td>7.0</td>\n",
       "      <td>NaN</td>\n",
       "      <td>3.0</td>\n",
       "      <td>NaN</td>\n",
       "      <td>NaN</td>\n",
       "      <td>NaN</td>\n",
       "      <td>1902.0</td>\n",
       "      <td>NaN</td>\n",
       "      <td>NaN</td>\n",
       "      <td>...</td>\n",
       "      <td>NaN</td>\n",
       "      <td>2.0</td>\n",
       "      <td>NaN</td>\n",
       "      <td>1.0</td>\n",
       "      <td>NaN</td>\n",
       "      <td>NaN</td>\n",
       "      <td>3.0</td>\n",
       "      <td>1.0</td>\n",
       "      <td>0.8893</td>\n",
       "      <td>1972</td>\n",
       "    </tr>\n",
       "    <tr>\n",
       "      <th>2</th>\n",
       "      <td>48.0</td>\n",
       "      <td>4.0</td>\n",
       "      <td>NaN</td>\n",
       "      <td>2.0</td>\n",
       "      <td>NaN</td>\n",
       "      <td>NaN</td>\n",
       "      <td>NaN</td>\n",
       "      <td>1924.0</td>\n",
       "      <td>NaN</td>\n",
       "      <td>NaN</td>\n",
       "      <td>...</td>\n",
       "      <td>NaN</td>\n",
       "      <td>1.0</td>\n",
       "      <td>2.0</td>\n",
       "      <td>2.0</td>\n",
       "      <td>NaN</td>\n",
       "      <td>NaN</td>\n",
       "      <td>3.0</td>\n",
       "      <td>2.0</td>\n",
       "      <td>0.8893</td>\n",
       "      <td>1972</td>\n",
       "    </tr>\n",
       "    <tr>\n",
       "      <th>3</th>\n",
       "      <td>27.0</td>\n",
       "      <td>0.0</td>\n",
       "      <td>NaN</td>\n",
       "      <td>3.0</td>\n",
       "      <td>NaN</td>\n",
       "      <td>NaN</td>\n",
       "      <td>NaN</td>\n",
       "      <td>1945.0</td>\n",
       "      <td>NaN</td>\n",
       "      <td>NaN</td>\n",
       "      <td>...</td>\n",
       "      <td>NaN</td>\n",
       "      <td>3.0</td>\n",
       "      <td>1.0</td>\n",
       "      <td>2.0</td>\n",
       "      <td>NaN</td>\n",
       "      <td>NaN</td>\n",
       "      <td>3.0</td>\n",
       "      <td>2.0</td>\n",
       "      <td>0.8893</td>\n",
       "      <td>1972</td>\n",
       "    </tr>\n",
       "    <tr>\n",
       "      <th>4</th>\n",
       "      <td>61.0</td>\n",
       "      <td>0.0</td>\n",
       "      <td>NaN</td>\n",
       "      <td>2.0</td>\n",
       "      <td>NaN</td>\n",
       "      <td>NaN</td>\n",
       "      <td>NaN</td>\n",
       "      <td>1911.0</td>\n",
       "      <td>NaN</td>\n",
       "      <td>NaN</td>\n",
       "      <td>...</td>\n",
       "      <td>NaN</td>\n",
       "      <td>1.0</td>\n",
       "      <td>NaN</td>\n",
       "      <td>2.0</td>\n",
       "      <td>NaN</td>\n",
       "      <td>NaN</td>\n",
       "      <td>3.0</td>\n",
       "      <td>2.0</td>\n",
       "      <td>0.8893</td>\n",
       "      <td>1972</td>\n",
       "    </tr>\n",
       "  </tbody>\n",
       "</table>\n",
       "<p>5 rows × 57 columns</p>\n",
       "</div>"
      ],
      "text/plain": [
       "    age  attend  ballot  class  clmtcaus  clmtusa  clmtwrld  cohort  commun  \\\n",
       "0  23.0     2.0     NaN    3.0       NaN      NaN       NaN  1949.0     NaN   \n",
       "1  70.0     7.0     NaN    3.0       NaN      NaN       NaN  1902.0     NaN   \n",
       "2  48.0     4.0     NaN    2.0       NaN      NaN       NaN  1924.0     NaN   \n",
       "3  27.0     0.0     NaN    3.0       NaN      NaN       NaN  1945.0     NaN   \n",
       "4  61.0     0.0     NaN    2.0       NaN      NaN       NaN  1911.0     NaN   \n",
       "\n",
       "   conarmy  ...  rincome  satfin  satjob  sex  sexbirth  sexnow  srcbelt  \\\n",
       "0      NaN  ...      NaN     3.0     3.0  2.0       NaN     NaN      3.0   \n",
       "1      NaN  ...      NaN     2.0     NaN  1.0       NaN     NaN      3.0   \n",
       "2      NaN  ...      NaN     1.0     2.0  2.0       NaN     NaN      3.0   \n",
       "3      NaN  ...      NaN     3.0     1.0  2.0       NaN     NaN      3.0   \n",
       "4      NaN  ...      NaN     1.0     NaN  2.0       NaN     NaN      3.0   \n",
       "\n",
       "   trust  wtssall  year  \n",
       "0    3.0   0.4446  1972  \n",
       "1    1.0   0.8893  1972  \n",
       "2    2.0   0.8893  1972  \n",
       "3    2.0   0.8893  1972  \n",
       "4    2.0   0.8893  1972  \n",
       "\n",
       "[5 rows x 57 columns]"
      ]
     },
     "execution_count": 9,
     "metadata": {},
     "output_type": "execute_result"
    },
    {
     "data": {
      "application/javascript": [
       "\n",
       "            setTimeout(function() {\n",
       "                var nbb_cell_id = 9;\n",
       "                var nbb_unformatted_code = \"print(gss.shape)\\ngss.head()\";\n",
       "                var nbb_formatted_code = \"print(gss.shape)\\ngss.head()\";\n",
       "                var nbb_cells = Jupyter.notebook.get_cells();\n",
       "                for (var i = 0; i < nbb_cells.length; ++i) {\n",
       "                    if (nbb_cells[i].input_prompt_number == nbb_cell_id) {\n",
       "                        if (nbb_cells[i].get_text() == nbb_unformatted_code) {\n",
       "                             nbb_cells[i].set_text(nbb_formatted_code);\n",
       "                        }\n",
       "                        break;\n",
       "                    }\n",
       "                }\n",
       "            }, 500);\n",
       "            "
      ],
      "text/plain": [
       "<IPython.core.display.Javascript object>"
      ]
     },
     "metadata": {},
     "output_type": "display_data"
    }
   ],
   "source": [
    "print(gss.shape)\n",
    "gss.head()"
   ]
  },
  {
   "cell_type": "code",
   "execution_count": 10,
   "metadata": {},
   "outputs": [
    {
     "data": {
      "application/javascript": [
       "\n",
       "            setTimeout(function() {\n",
       "                var nbb_cell_id = 10;\n",
       "                var nbb_unformatted_code = \"from utils import resample_by_year\\n\\nnp.random.seed(17)\\nsample = resample_by_year(gss, \\\"wtssall\\\")\";\n",
       "                var nbb_formatted_code = \"from utils import resample_by_year\\n\\nnp.random.seed(17)\\nsample = resample_by_year(gss, \\\"wtssall\\\")\";\n",
       "                var nbb_cells = Jupyter.notebook.get_cells();\n",
       "                for (var i = 0; i < nbb_cells.length; ++i) {\n",
       "                    if (nbb_cells[i].input_prompt_number == nbb_cell_id) {\n",
       "                        if (nbb_cells[i].get_text() == nbb_unformatted_code) {\n",
       "                             nbb_cells[i].set_text(nbb_formatted_code);\n",
       "                        }\n",
       "                        break;\n",
       "                    }\n",
       "                }\n",
       "            }, 500);\n",
       "            "
      ],
      "text/plain": [
       "<IPython.core.display.Javascript object>"
      ]
     },
     "metadata": {},
     "output_type": "display_data"
    },
    {
     "data": {
      "application/javascript": [
       "\n",
       "            setTimeout(function() {\n",
       "                var nbb_cell_id = 10;\n",
       "                var nbb_unformatted_code = \"from utils import resample_by_year\\n\\nnp.random.seed(17)\\nsample = resample_by_year(gss, \\\"wtssall\\\")\";\n",
       "                var nbb_formatted_code = \"from utils import resample_by_year\\n\\nnp.random.seed(17)\\nsample = resample_by_year(gss, \\\"wtssall\\\")\";\n",
       "                var nbb_cells = Jupyter.notebook.get_cells();\n",
       "                for (var i = 0; i < nbb_cells.length; ++i) {\n",
       "                    if (nbb_cells[i].input_prompt_number == nbb_cell_id) {\n",
       "                        if (nbb_cells[i].get_text() == nbb_unformatted_code) {\n",
       "                             nbb_cells[i].set_text(nbb_formatted_code);\n",
       "                        }\n",
       "                        break;\n",
       "                    }\n",
       "                }\n",
       "            }, 500);\n",
       "            "
      ],
      "text/plain": [
       "<IPython.core.display.Javascript object>"
      ]
     },
     "metadata": {},
     "output_type": "display_data"
    }
   ],
   "source": [
    "from utils import resample_by_year\n",
    "\n",
    "np.random.seed(17)\n",
    "sample = resample_by_year(gss, \"wtssall\")"
   ]
  },
  {
   "cell_type": "code",
   "execution_count": 11,
   "metadata": {},
   "outputs": [
    {
     "data": {
      "application/javascript": [
       "\n",
       "            setTimeout(function() {\n",
       "                var nbb_cell_id = 11;\n",
       "                var nbb_unformatted_code = \"!rm -f ../data/interim/gss_extract_2022_3a.hdf\";\n",
       "                var nbb_formatted_code = \"!rm -f ../data/interim/gss_extract_2022_3a.hdf\";\n",
       "                var nbb_cells = Jupyter.notebook.get_cells();\n",
       "                for (var i = 0; i < nbb_cells.length; ++i) {\n",
       "                    if (nbb_cells[i].input_prompt_number == nbb_cell_id) {\n",
       "                        if (nbb_cells[i].get_text() == nbb_unformatted_code) {\n",
       "                             nbb_cells[i].set_text(nbb_formatted_code);\n",
       "                        }\n",
       "                        break;\n",
       "                    }\n",
       "                }\n",
       "            }, 500);\n",
       "            "
      ],
      "text/plain": [
       "<IPython.core.display.Javascript object>"
      ]
     },
     "metadata": {},
     "output_type": "display_data"
    }
   ],
   "source": [
    "!rm -f ../data/interim/gss_extract_2022_3a.hdf"
   ]
  },
  {
   "cell_type": "code",
   "execution_count": 12,
   "metadata": {},
   "outputs": [
    {
     "data": {
      "application/javascript": [
       "\n",
       "            setTimeout(function() {\n",
       "                var nbb_cell_id = 12;\n",
       "                var nbb_unformatted_code = \"sample.to_hdf(\\\"../data/interim/gss_extract_2022_3a.hdf\\\", \\\"gss\\\", complevel=6)\";\n",
       "                var nbb_formatted_code = \"sample.to_hdf(\\\"../data/interim/gss_extract_2022_3a.hdf\\\", \\\"gss\\\", complevel=6)\";\n",
       "                var nbb_cells = Jupyter.notebook.get_cells();\n",
       "                for (var i = 0; i < nbb_cells.length; ++i) {\n",
       "                    if (nbb_cells[i].input_prompt_number == nbb_cell_id) {\n",
       "                        if (nbb_cells[i].get_text() == nbb_unformatted_code) {\n",
       "                             nbb_cells[i].set_text(nbb_formatted_code);\n",
       "                        }\n",
       "                        break;\n",
       "                    }\n",
       "                }\n",
       "            }, 500);\n",
       "            "
      ],
      "text/plain": [
       "<IPython.core.display.Javascript object>"
      ]
     },
     "metadata": {},
     "output_type": "display_data"
    }
   ],
   "source": [
    "sample.to_hdf(\"../data/interim/gss_extract_2022_3a.hdf\", \"gss\", complevel=6)"
   ]
  },
  {
   "cell_type": "code",
   "execution_count": 13,
   "metadata": {},
   "outputs": [
    {
     "name": "stdout",
     "output_type": "stream",
     "text": [
      "-rw-rw-r-- 1 downey downey 9.1M Aug  9 17:15 ../data/interim/gss_eds_2022.hdf\r\n"
     ]
    },
    {
     "data": {
      "application/javascript": [
       "\n",
       "            setTimeout(function() {\n",
       "                var nbb_cell_id = 13;\n",
       "                var nbb_unformatted_code = \"!ls -lh ../data/interim/gss_eds_2022.hdf\";\n",
       "                var nbb_formatted_code = \"!ls -lh ../data/interim/gss_eds_2022.hdf\";\n",
       "                var nbb_cells = Jupyter.notebook.get_cells();\n",
       "                for (var i = 0; i < nbb_cells.length; ++i) {\n",
       "                    if (nbb_cells[i].input_prompt_number == nbb_cell_id) {\n",
       "                        if (nbb_cells[i].get_text() == nbb_unformatted_code) {\n",
       "                             nbb_cells[i].set_text(nbb_formatted_code);\n",
       "                        }\n",
       "                        break;\n",
       "                    }\n",
       "                }\n",
       "            }, 500);\n",
       "            "
      ],
      "text/plain": [
       "<IPython.core.display.Javascript object>"
      ]
     },
     "metadata": {},
     "output_type": "display_data"
    }
   ],
   "source": [
    "!ls -lh ../data/interim/gss_eds_2022.hdf"
   ]
  },
  {
   "cell_type": "code",
   "execution_count": 14,
   "metadata": {},
   "outputs": [
    {
     "name": "stdout",
     "output_type": "stream",
     "text": [
      "[main 0e851fb] Updating GSS extract\n",
      " 1 file changed, 0 insertions(+), 0 deletions(-)\n",
      " rewrite data/interim/gss_extract_2022_3a.hdf (62%)\n",
      "Enumerating objects: 9, done.\n",
      "Counting objects: 100% (9/9), done.\n",
      "Delta compression using up to 12 threads\n",
      "Compressing objects: 100% (4/4), done.\n",
      "Writing objects: 100% (5/5), 3.58 MiB | 2.66 MiB/s, done.\n",
      "Total 5 (delta 2), reused 0 (delta 0)\n",
      "remote: Resolving deltas: 100% (2/2), completed with 2 local objects.\u001b[K\n",
      "To https://github.com/AllenDowney/GssExtract.git\n",
      "   9cf7f52..0e851fb  main -> main\n"
     ]
    },
    {
     "data": {
      "application/javascript": [
       "\n",
       "            setTimeout(function() {\n",
       "                var nbb_cell_id = 14;\n",
       "                var nbb_unformatted_code = \"!git add -f ../data/interim/gss_extract_2022_3a.hdf\\n!git commit -m \\\"Updating GSS extract\\\"\\n!git push\";\n",
       "                var nbb_formatted_code = \"!git add -f ../data/interim/gss_extract_2022_3a.hdf\\n!git commit -m \\\"Updating GSS extract\\\"\\n!git push\";\n",
       "                var nbb_cells = Jupyter.notebook.get_cells();\n",
       "                for (var i = 0; i < nbb_cells.length; ++i) {\n",
       "                    if (nbb_cells[i].input_prompt_number == nbb_cell_id) {\n",
       "                        if (nbb_cells[i].get_text() == nbb_unformatted_code) {\n",
       "                             nbb_cells[i].set_text(nbb_formatted_code);\n",
       "                        }\n",
       "                        break;\n",
       "                    }\n",
       "                }\n",
       "            }, 500);\n",
       "            "
      ],
      "text/plain": [
       "<IPython.core.display.Javascript object>"
      ]
     },
     "metadata": {},
     "output_type": "display_data"
    }
   ],
   "source": [
    "!git add -f ../data/interim/gss_extract_2022_3a.hdf\n",
    "!git commit -m \"Updating GSS extract\"\n",
    "!git push"
   ]
  },
  {
   "cell_type": "code",
   "execution_count": null,
   "metadata": {},
   "outputs": [],
   "source": []
  }
 ],
 "metadata": {
  "interpreter": {
   "hash": "af43c3c4197469e42a8c620d17365aec73541d988a414c33dbec45347513dfbc"
  },
  "kernelspec": {
   "display_name": "Python 3 (ipykernel)",
   "language": "python",
   "name": "python3"
  },
  "language_info": {
   "codemirror_mode": {
    "name": "ipython",
    "version": 3
   },
   "file_extension": ".py",
   "mimetype": "text/x-python",
   "name": "python",
   "nbconvert_exporter": "python",
   "pygments_lexer": "ipython3",
   "version": "3.10.12"
  }
 },
 "nbformat": 4,
 "nbformat_minor": 1
}
