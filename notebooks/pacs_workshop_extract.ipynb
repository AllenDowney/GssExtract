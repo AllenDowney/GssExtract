{
 "cells": [
  {
   "cell_type": "markdown",
   "metadata": {},
   "source": [
    "# Extract GSS Data for the PACS Workshop\n",
    "\n",
    "Allen Downey\n",
    "\n",
    "[MIT License](https://en.wikipedia.org/wiki/MIT_License)"
   ]
  },
  {
   "cell_type": "code",
   "execution_count": 1,
   "metadata": {},
   "outputs": [],
   "source": [
    "import pandas as pd\n",
    "import numpy as np\n",
    "import matplotlib.pyplot as plt\n",
    "\n",
    "from utils import resample_by_year"
   ]
  },
  {
   "cell_type": "markdown",
   "metadata": {},
   "source": [
    "Download the Stata data from https://gss.norc.org/get-the-data/stata\n",
    "\n",
    "Move to data/raw and unzip"
   ]
  },
  {
   "cell_type": "code",
   "execution_count": 2,
   "metadata": {},
   "outputs": [
    {
     "name": "stdout",
     "output_type": "stream",
     "text": [
      "gss7221_r2.dta.gz  gss7222_r2.dta.gz   gss7222_r3.dta.gz  GSS_stata\r\n",
      "gss7222_r1.dta.gz  gss7222_r3a.dta.gz  gss7222_r4.dta.gz  GSS_stata.zip\r\n"
     ]
    }
   ],
   "source": [
    "!ls ../data/raw/"
   ]
  },
  {
   "cell_type": "code",
   "execution_count": 3,
   "metadata": {},
   "outputs": [],
   "source": [
    "filename = \"../data/raw/gss7222_r4.dta.gz\""
   ]
  },
  {
   "cell_type": "code",
   "execution_count": 4,
   "metadata": {},
   "outputs": [],
   "source": [
    "columns = sorted(\n",
    "    [\n",
    "        \"year\",\n",
    "        \"id\",\n",
    "        \"age\",\n",
    "        \"cohort\",\n",
    "        \"educ\",\n",
    "        \"degree\",\n",
    "        \"sex\",\n",
    "        \"race\",\n",
    "        \"rincome\",\n",
    "        \"region\",\n",
    "        \"srcbelt\",\n",
    "        \"class\",\n",
    "        \"partyid\",\n",
    "        \"polviews\",\n",
    "        \"relig\",\n",
    "        \"attend\",\n",
    "        \"happy\",\n",
    "        \"hapmar\",\n",
    "        \"health\",\n",
    "        \"life\",\n",
    "        \"fear\",\n",
    "        \"helpful\",\n",
    "        \"fair\",\n",
    "        \"trust\",\n",
    "        \"satjob\",\n",
    "        \"satfin\",\n",
    "        \"goodlife\",\n",
    "        \"ballot\",\n",
    "        \"wtssall\",\n",
    "        \"wtssps\",\n",
    "    ]\n",
    ")"
   ]
  },
  {
   "cell_type": "code",
   "execution_count": 5,
   "metadata": {},
   "outputs": [],
   "source": [
    "gss = pd.read_stata(filename, columns=columns, convert_categoricals=False)"
   ]
  },
  {
   "cell_type": "code",
   "execution_count": 6,
   "metadata": {},
   "outputs": [
    {
     "data": {
      "text/plain": [
       "count    72390.000000\n",
       "mean         1.000014\n",
       "std          0.550871\n",
       "min          0.073972\n",
       "25%          0.549300\n",
       "50%          0.961700\n",
       "75%          1.098500\n",
       "max         14.272462\n",
       "Name: wtssall, dtype: float64"
      ]
     },
     "execution_count": 6,
     "metadata": {},
     "output_type": "execute_result"
    }
   ],
   "source": [
    "# Weights are different in the most recent iterations\n",
    "# We'll combine them into a single column, but we will never\n",
    "# mix weights from differnet iterations.\n",
    "gss[\"wtssall\"].fillna(gss[\"wtssps\"], inplace=True)\n",
    "gss[\"wtssall\"].describe()"
   ]
  },
  {
   "cell_type": "code",
   "execution_count": 7,
   "metadata": {},
   "outputs": [],
   "source": [
    "del gss[\"wtssps\"]"
   ]
  },
  {
   "cell_type": "code",
   "execution_count": 8,
   "metadata": {},
   "outputs": [
    {
     "name": "stdout",
     "output_type": "stream",
     "text": [
      "(72390, 29)\n"
     ]
    },
    {
     "data": {
      "text/html": [
       "<div>\n",
       "<style scoped>\n",
       "    .dataframe tbody tr th:only-of-type {\n",
       "        vertical-align: middle;\n",
       "    }\n",
       "\n",
       "    .dataframe tbody tr th {\n",
       "        vertical-align: top;\n",
       "    }\n",
       "\n",
       "    .dataframe thead th {\n",
       "        text-align: right;\n",
       "    }\n",
       "</style>\n",
       "<table border=\"1\" class=\"dataframe\">\n",
       "  <thead>\n",
       "    <tr style=\"text-align: right;\">\n",
       "      <th></th>\n",
       "      <th>age</th>\n",
       "      <th>attend</th>\n",
       "      <th>ballot</th>\n",
       "      <th>class</th>\n",
       "      <th>cohort</th>\n",
       "      <th>degree</th>\n",
       "      <th>educ</th>\n",
       "      <th>fair</th>\n",
       "      <th>fear</th>\n",
       "      <th>goodlife</th>\n",
       "      <th>...</th>\n",
       "      <th>region</th>\n",
       "      <th>relig</th>\n",
       "      <th>rincome</th>\n",
       "      <th>satfin</th>\n",
       "      <th>satjob</th>\n",
       "      <th>sex</th>\n",
       "      <th>srcbelt</th>\n",
       "      <th>trust</th>\n",
       "      <th>wtssall</th>\n",
       "      <th>year</th>\n",
       "    </tr>\n",
       "  </thead>\n",
       "  <tbody>\n",
       "    <tr>\n",
       "      <th>0</th>\n",
       "      <td>23.0</td>\n",
       "      <td>2.0</td>\n",
       "      <td>NaN</td>\n",
       "      <td>3.0</td>\n",
       "      <td>1949.0</td>\n",
       "      <td>3.0</td>\n",
       "      <td>16.0</td>\n",
       "      <td>2.0</td>\n",
       "      <td>NaN</td>\n",
       "      <td>NaN</td>\n",
       "      <td>...</td>\n",
       "      <td>3</td>\n",
       "      <td>3.0</td>\n",
       "      <td>NaN</td>\n",
       "      <td>3.0</td>\n",
       "      <td>3.0</td>\n",
       "      <td>2.0</td>\n",
       "      <td>3.0</td>\n",
       "      <td>3.0</td>\n",
       "      <td>0.4446</td>\n",
       "      <td>1972</td>\n",
       "    </tr>\n",
       "    <tr>\n",
       "      <th>1</th>\n",
       "      <td>70.0</td>\n",
       "      <td>7.0</td>\n",
       "      <td>NaN</td>\n",
       "      <td>3.0</td>\n",
       "      <td>1902.0</td>\n",
       "      <td>0.0</td>\n",
       "      <td>10.0</td>\n",
       "      <td>2.0</td>\n",
       "      <td>NaN</td>\n",
       "      <td>NaN</td>\n",
       "      <td>...</td>\n",
       "      <td>3</td>\n",
       "      <td>2.0</td>\n",
       "      <td>NaN</td>\n",
       "      <td>2.0</td>\n",
       "      <td>NaN</td>\n",
       "      <td>1.0</td>\n",
       "      <td>3.0</td>\n",
       "      <td>1.0</td>\n",
       "      <td>0.8893</td>\n",
       "      <td>1972</td>\n",
       "    </tr>\n",
       "    <tr>\n",
       "      <th>2</th>\n",
       "      <td>48.0</td>\n",
       "      <td>4.0</td>\n",
       "      <td>NaN</td>\n",
       "      <td>2.0</td>\n",
       "      <td>1924.0</td>\n",
       "      <td>1.0</td>\n",
       "      <td>12.0</td>\n",
       "      <td>1.0</td>\n",
       "      <td>NaN</td>\n",
       "      <td>NaN</td>\n",
       "      <td>...</td>\n",
       "      <td>3</td>\n",
       "      <td>1.0</td>\n",
       "      <td>NaN</td>\n",
       "      <td>1.0</td>\n",
       "      <td>2.0</td>\n",
       "      <td>2.0</td>\n",
       "      <td>3.0</td>\n",
       "      <td>2.0</td>\n",
       "      <td>0.8893</td>\n",
       "      <td>1972</td>\n",
       "    </tr>\n",
       "    <tr>\n",
       "      <th>3</th>\n",
       "      <td>27.0</td>\n",
       "      <td>0.0</td>\n",
       "      <td>NaN</td>\n",
       "      <td>3.0</td>\n",
       "      <td>1945.0</td>\n",
       "      <td>3.0</td>\n",
       "      <td>17.0</td>\n",
       "      <td>2.0</td>\n",
       "      <td>NaN</td>\n",
       "      <td>NaN</td>\n",
       "      <td>...</td>\n",
       "      <td>3</td>\n",
       "      <td>5.0</td>\n",
       "      <td>NaN</td>\n",
       "      <td>3.0</td>\n",
       "      <td>1.0</td>\n",
       "      <td>2.0</td>\n",
       "      <td>3.0</td>\n",
       "      <td>2.0</td>\n",
       "      <td>0.8893</td>\n",
       "      <td>1972</td>\n",
       "    </tr>\n",
       "    <tr>\n",
       "      <th>4</th>\n",
       "      <td>61.0</td>\n",
       "      <td>0.0</td>\n",
       "      <td>NaN</td>\n",
       "      <td>2.0</td>\n",
       "      <td>1911.0</td>\n",
       "      <td>1.0</td>\n",
       "      <td>12.0</td>\n",
       "      <td>2.0</td>\n",
       "      <td>NaN</td>\n",
       "      <td>NaN</td>\n",
       "      <td>...</td>\n",
       "      <td>3</td>\n",
       "      <td>1.0</td>\n",
       "      <td>NaN</td>\n",
       "      <td>1.0</td>\n",
       "      <td>NaN</td>\n",
       "      <td>2.0</td>\n",
       "      <td>3.0</td>\n",
       "      <td>2.0</td>\n",
       "      <td>0.8893</td>\n",
       "      <td>1972</td>\n",
       "    </tr>\n",
       "  </tbody>\n",
       "</table>\n",
       "<p>5 rows × 29 columns</p>\n",
       "</div>"
      ],
      "text/plain": [
       "    age  attend  ballot  class  cohort  degree  educ  fair  fear  goodlife  \\\n",
       "0  23.0     2.0     NaN    3.0  1949.0     3.0  16.0   2.0   NaN       NaN   \n",
       "1  70.0     7.0     NaN    3.0  1902.0     0.0  10.0   2.0   NaN       NaN   \n",
       "2  48.0     4.0     NaN    2.0  1924.0     1.0  12.0   1.0   NaN       NaN   \n",
       "3  27.0     0.0     NaN    3.0  1945.0     3.0  17.0   2.0   NaN       NaN   \n",
       "4  61.0     0.0     NaN    2.0  1911.0     1.0  12.0   2.0   NaN       NaN   \n",
       "\n",
       "   ...  region  relig  rincome  satfin  satjob  sex  srcbelt  trust  wtssall  \\\n",
       "0  ...       3    3.0      NaN     3.0     3.0  2.0      3.0    3.0   0.4446   \n",
       "1  ...       3    2.0      NaN     2.0     NaN  1.0      3.0    1.0   0.8893   \n",
       "2  ...       3    1.0      NaN     1.0     2.0  2.0      3.0    2.0   0.8893   \n",
       "3  ...       3    5.0      NaN     3.0     1.0  2.0      3.0    2.0   0.8893   \n",
       "4  ...       3    1.0      NaN     1.0     NaN  2.0      3.0    2.0   0.8893   \n",
       "\n",
       "   year  \n",
       "0  1972  \n",
       "1  1972  \n",
       "2  1972  \n",
       "3  1972  \n",
       "4  1972  \n",
       "\n",
       "[5 rows x 29 columns]"
      ]
     },
     "execution_count": 8,
     "metadata": {},
     "output_type": "execute_result"
    }
   ],
   "source": [
    "print(gss.shape)\n",
    "gss.head()"
   ]
  },
  {
   "cell_type": "code",
   "execution_count": 9,
   "metadata": {},
   "outputs": [],
   "source": [
    "from utils import resample_by_year\n",
    "\n",
    "np.random.seed(17)\n",
    "sample = resample_by_year(gss, \"wtssall\")"
   ]
  },
  {
   "cell_type": "code",
   "execution_count": 10,
   "metadata": {},
   "outputs": [],
   "source": [
    "!rm -f ../data/interim/gss_extract_pacs_workshop.hdf"
   ]
  },
  {
   "cell_type": "code",
   "execution_count": 11,
   "metadata": {},
   "outputs": [],
   "source": [
    "sample.to_hdf(\"../data/interim/gss_extract_pacs_workshop.hdf\", \"gss\", complevel=6)"
   ]
  },
  {
   "cell_type": "code",
   "execution_count": 12,
   "metadata": {},
   "outputs": [
    {
     "name": "stdout",
     "output_type": "stream",
     "text": [
      "-rw-rw-r-- 1 downey downey 1.9M Apr 23 13:26 ../data/interim/gss_extract_pacs_workshop.hdf\r\n"
     ]
    }
   ],
   "source": [
    "!ls -lh ../data/interim/gss_extract_pacs_workshop.hdf"
   ]
  },
  {
   "cell_type": "code",
   "execution_count": 13,
   "metadata": {},
   "outputs": [
    {
     "name": "stdout",
     "output_type": "stream",
     "text": [
      "[main 6dd0983] Updating extract for the PACS workshop\n",
      " 1 file changed, 0 insertions(+), 0 deletions(-)\n",
      " create mode 100644 data/interim/gss_extract_pacs_workshop.hdf\n",
      "Enumerating objects: 8, done.\n",
      "Counting objects: 100% (8/8), done.\n",
      "Delta compression using up to 12 threads\n",
      "Compressing objects: 100% (4/4), done.\n",
      "Writing objects: 100% (5/5), 1.76 MiB | 1.36 MiB/s, done.\n",
      "Total 5 (delta 2), reused 0 (delta 0)\n",
      "remote: Resolving deltas: 100% (2/2), completed with 2 local objects.\u001b[K\n",
      "To https://github.com/AllenDowney/GssExtract.git\n",
      "   e954d99..6dd0983  main -> main\n"
     ]
    }
   ],
   "source": [
    "!git add -f ../data/interim/gss_extract_pacs_workshop.hdf\n",
    "!git commit -m \"Updating extract for the PACS workshop\"\n",
    "!git push"
   ]
  },
  {
   "cell_type": "code",
   "execution_count": null,
   "metadata": {},
   "outputs": [],
   "source": []
  }
 ],
 "metadata": {
  "interpreter": {
   "hash": "af43c3c4197469e42a8c620d17365aec73541d988a414c33dbec45347513dfbc"
  },
  "kernelspec": {
   "display_name": "Python 3 (ipykernel)",
   "language": "python",
   "name": "python3"
  },
  "language_info": {
   "codemirror_mode": {
    "name": "ipython",
    "version": 3
   },
   "file_extension": ".py",
   "mimetype": "text/x-python",
   "name": "python",
   "nbconvert_exporter": "python",
   "pygments_lexer": "ipython3",
   "version": "3.10.12"
  }
 },
 "nbformat": 4,
 "nbformat_minor": 1
}
