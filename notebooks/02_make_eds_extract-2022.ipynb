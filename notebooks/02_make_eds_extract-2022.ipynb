{
 "cells": [
  {
   "cell_type": "markdown",
   "metadata": {},
   "source": [
    "# Extract data for Elements of Data Science\n",
    "\n",
    "Allen Downey\n",
    "\n",
    "[MIT License](https://en.wikipedia.org/wiki/MIT_License)"
   ]
  },
  {
   "cell_type": "code",
   "execution_count": 1,
   "metadata": {},
   "outputs": [],
   "source": [
    "import pandas as pd\n",
    "import numpy as np\n",
    "import matplotlib.pyplot as plt"
   ]
  },
  {
   "cell_type": "code",
   "execution_count": 2,
   "metadata": {},
   "outputs": [
    {
     "data": {
      "application/javascript": [
       "\n",
       "            setTimeout(function() {\n",
       "                var nbb_cell_id = 2;\n",
       "                var nbb_unformatted_code = \"%load_ext nb_black\";\n",
       "                var nbb_formatted_code = \"%load_ext nb_black\";\n",
       "                var nbb_cells = Jupyter.notebook.get_cells();\n",
       "                for (var i = 0; i < nbb_cells.length; ++i) {\n",
       "                    if (nbb_cells[i].input_prompt_number == nbb_cell_id) {\n",
       "                        if (nbb_cells[i].get_text() == nbb_unformatted_code) {\n",
       "                             nbb_cells[i].set_text(nbb_formatted_code);\n",
       "                        }\n",
       "                        break;\n",
       "                    }\n",
       "                }\n",
       "            }, 500);\n",
       "            "
      ],
      "text/plain": [
       "<IPython.core.display.Javascript object>"
      ]
     },
     "metadata": {},
     "output_type": "display_data"
    }
   ],
   "source": [
    "%load_ext nb_black"
   ]
  },
  {
   "cell_type": "markdown",
   "metadata": {},
   "source": [
    "\n",
    "Reading data from the [General Social Survey](https://gssdataexplorer.norc.org)\n"
   ]
  },
  {
   "cell_type": "code",
   "execution_count": 3,
   "metadata": {},
   "outputs": [
    {
     "data": {
      "application/javascript": [
       "\n",
       "            setTimeout(function() {\n",
       "                var nbb_cell_id = 3;\n",
       "                var nbb_unformatted_code = \"columns = sorted([\\n'year',\\n'id',\\n'divorce',\\n'sibs',\\n'childs',\\n'age',\\n'educ',\\n'degree',\\n'sex',\\n'race',\\n'res16',\\n'reg16',\\n'adults',\\n'income',\\n'rincome',\\n'region',\\n'srcbelt',\\n'partyid',\\n'pres96',\\n'pres00',\\n'pres04',\\n'pres08',\\n'pres12',\\n'polviews',\\n'natspac',\\n'natenvir',\\n'natheal',\\n'natcity',\\n'natcrime',\\n'natdrug',\\n'nateduc',\\n'natrace',\\n'natarms',\\n'nataid',\\n'natfare',\\n'natroad',\\n'natsoc',\\n'natmass',\\n'natpark',\\n'natchld',\\n'natsci',\\n'natenrgy',\\n'spkath',\\n'colath',\\n'libath',\\n'spksoc',\\n'colsoc',\\n'libsoc',\\n'spkrac',\\n'colrac',\\n'librac',\\n'spkcom',\\n'colcom',\\n'libcom',\\n'spkmil',\\n'colmil',\\n'libmil',\\n'spkhomo',\\n'colhomo',\\n'libhomo',\\n'spkmslm',\\n'colmslm',\\n'libmslm',\\n'cappun',\\n'gunlaw',\\n'grass',\\n'relig',\\n'fund',\\n'attend',\\n'reliten',\\n'postlife',\\n'pray',\\n'popespks',\\n'relig16',\\n'prayer',\\n'bible',\\n'racmar',\\n'racdin',\\n'racpush',\\n'racseg',\\n'racopen',\\n'raclive',\\n'racclos',\\n'racdis',\\n'racinteg',\\n'rachome',\\n'racschol',\\n'racfew',\\n'rachaf',\\n'racmost',\\n'racpres',\\n'racchurh',\\n'affrmact',\\n'happy',\\n'hapmar',\\n'health',\\n'life',\\n'helpful',\\n'fair',\\n'trust',\\n'confinan',\\n'conbus',\\n'conclerg',\\n'coneduc',\\n'confed',\\n'conlabor',\\n'conpress',\\n'conmedic',\\n'contv',\\n'conjudge',\\n'consci',\\n'conlegis',\\n'conarmy',\\n'satjob',\\n'class',\\n'satfin',\\n'finrela',\\n'union',\\n'fehome',\\n'fework',\\n'fepres',\\n'fepol',\\n'abdefect',\\n'abnomore',\\n'abhlth',\\n'abpoor',\\n'abrape',\\n'absingle',\\n'abany',\\n'chldidel',\\n'sexeduc',\\n'divlaw',\\n'premarsx',\\n'teensex',\\n'xmarsex',\\n'homosex',\\n'pornlaw',\\n'spanking',\\n'letdie1',\\n'polhitok',\\n'polabuse',\\n'polmurdr',\\n'polescap',\\n'polattak',\\n'fear',\\n'owngun',\\n'pistol',\\n'rowngun',\\n'hunt',\\n'phone',\\n'fechld',\\n'fehelp',\\n'fepresch',\\n'fefam',\\n'racdif1',\\n'racdif2',\\n'racdif3',\\n'racdif4',\\n'god',\\n'reborn',\\n'savesoul',\\n'racwork',\\n'fejobaff',\\n'discaffm',\\n'discaffw',\\n'fehire',\\n'relpersn',\\n'sprtprsn',\\n'relexp',\\n'spklang',\\n'compuse',\\n'hrsrelax',\\n'trdunion',\\n'wkracism',\\n'wksexism',\\n'wkharsex',\\n'databank',\\n'goodlife',\\n'meovrwrk',\\n'miracles',\\n'relexper',\\n'relactiv',\\n'matesex',\\n'frndsex',\\n'acqntsex',\\n'pikupsex',\\n'paidsex',\\n'othersex',\\n'sexsex',\\n'sexfreq',\\n'sexsex5',\\n'sexornt',\\n'hhrace',\\n'cohort',\\n'ballot',\\n'wtssall',\\n'wtssps',\\n'sexbirth',\\n'sexnow',\\n'eqwlth',\\n'realinc',\\n'realrinc',\\n'coninc',\\n'conrinc',\\n'commun',\\n])\";\n",
       "                var nbb_formatted_code = \"columns = sorted(\\n    [\\n        \\\"year\\\",\\n        \\\"id\\\",\\n        \\\"divorce\\\",\\n        \\\"sibs\\\",\\n        \\\"childs\\\",\\n        \\\"age\\\",\\n        \\\"educ\\\",\\n        \\\"degree\\\",\\n        \\\"sex\\\",\\n        \\\"race\\\",\\n        \\\"res16\\\",\\n        \\\"reg16\\\",\\n        \\\"adults\\\",\\n        \\\"income\\\",\\n        \\\"rincome\\\",\\n        \\\"region\\\",\\n        \\\"srcbelt\\\",\\n        \\\"partyid\\\",\\n        \\\"pres96\\\",\\n        \\\"pres00\\\",\\n        \\\"pres04\\\",\\n        \\\"pres08\\\",\\n        \\\"pres12\\\",\\n        \\\"polviews\\\",\\n        \\\"natspac\\\",\\n        \\\"natenvir\\\",\\n        \\\"natheal\\\",\\n        \\\"natcity\\\",\\n        \\\"natcrime\\\",\\n        \\\"natdrug\\\",\\n        \\\"nateduc\\\",\\n        \\\"natrace\\\",\\n        \\\"natarms\\\",\\n        \\\"nataid\\\",\\n        \\\"natfare\\\",\\n        \\\"natroad\\\",\\n        \\\"natsoc\\\",\\n        \\\"natmass\\\",\\n        \\\"natpark\\\",\\n        \\\"natchld\\\",\\n        \\\"natsci\\\",\\n        \\\"natenrgy\\\",\\n        \\\"spkath\\\",\\n        \\\"colath\\\",\\n        \\\"libath\\\",\\n        \\\"spksoc\\\",\\n        \\\"colsoc\\\",\\n        \\\"libsoc\\\",\\n        \\\"spkrac\\\",\\n        \\\"colrac\\\",\\n        \\\"librac\\\",\\n        \\\"spkcom\\\",\\n        \\\"colcom\\\",\\n        \\\"libcom\\\",\\n        \\\"spkmil\\\",\\n        \\\"colmil\\\",\\n        \\\"libmil\\\",\\n        \\\"spkhomo\\\",\\n        \\\"colhomo\\\",\\n        \\\"libhomo\\\",\\n        \\\"spkmslm\\\",\\n        \\\"colmslm\\\",\\n        \\\"libmslm\\\",\\n        \\\"cappun\\\",\\n        \\\"gunlaw\\\",\\n        \\\"grass\\\",\\n        \\\"relig\\\",\\n        \\\"fund\\\",\\n        \\\"attend\\\",\\n        \\\"reliten\\\",\\n        \\\"postlife\\\",\\n        \\\"pray\\\",\\n        \\\"popespks\\\",\\n        \\\"relig16\\\",\\n        \\\"prayer\\\",\\n        \\\"bible\\\",\\n        \\\"racmar\\\",\\n        \\\"racdin\\\",\\n        \\\"racpush\\\",\\n        \\\"racseg\\\",\\n        \\\"racopen\\\",\\n        \\\"raclive\\\",\\n        \\\"racclos\\\",\\n        \\\"racdis\\\",\\n        \\\"racinteg\\\",\\n        \\\"rachome\\\",\\n        \\\"racschol\\\",\\n        \\\"racfew\\\",\\n        \\\"rachaf\\\",\\n        \\\"racmost\\\",\\n        \\\"racpres\\\",\\n        \\\"racchurh\\\",\\n        \\\"affrmact\\\",\\n        \\\"happy\\\",\\n        \\\"hapmar\\\",\\n        \\\"health\\\",\\n        \\\"life\\\",\\n        \\\"helpful\\\",\\n        \\\"fair\\\",\\n        \\\"trust\\\",\\n        \\\"confinan\\\",\\n        \\\"conbus\\\",\\n        \\\"conclerg\\\",\\n        \\\"coneduc\\\",\\n        \\\"confed\\\",\\n        \\\"conlabor\\\",\\n        \\\"conpress\\\",\\n        \\\"conmedic\\\",\\n        \\\"contv\\\",\\n        \\\"conjudge\\\",\\n        \\\"consci\\\",\\n        \\\"conlegis\\\",\\n        \\\"conarmy\\\",\\n        \\\"satjob\\\",\\n        \\\"class\\\",\\n        \\\"satfin\\\",\\n        \\\"finrela\\\",\\n        \\\"union\\\",\\n        \\\"fehome\\\",\\n        \\\"fework\\\",\\n        \\\"fepres\\\",\\n        \\\"fepol\\\",\\n        \\\"abdefect\\\",\\n        \\\"abnomore\\\",\\n        \\\"abhlth\\\",\\n        \\\"abpoor\\\",\\n        \\\"abrape\\\",\\n        \\\"absingle\\\",\\n        \\\"abany\\\",\\n        \\\"chldidel\\\",\\n        \\\"sexeduc\\\",\\n        \\\"divlaw\\\",\\n        \\\"premarsx\\\",\\n        \\\"teensex\\\",\\n        \\\"xmarsex\\\",\\n        \\\"homosex\\\",\\n        \\\"pornlaw\\\",\\n        \\\"spanking\\\",\\n        \\\"letdie1\\\",\\n        \\\"polhitok\\\",\\n        \\\"polabuse\\\",\\n        \\\"polmurdr\\\",\\n        \\\"polescap\\\",\\n        \\\"polattak\\\",\\n        \\\"fear\\\",\\n        \\\"owngun\\\",\\n        \\\"pistol\\\",\\n        \\\"rowngun\\\",\\n        \\\"hunt\\\",\\n        \\\"phone\\\",\\n        \\\"fechld\\\",\\n        \\\"fehelp\\\",\\n        \\\"fepresch\\\",\\n        \\\"fefam\\\",\\n        \\\"racdif1\\\",\\n        \\\"racdif2\\\",\\n        \\\"racdif3\\\",\\n        \\\"racdif4\\\",\\n        \\\"god\\\",\\n        \\\"reborn\\\",\\n        \\\"savesoul\\\",\\n        \\\"racwork\\\",\\n        \\\"fejobaff\\\",\\n        \\\"discaffm\\\",\\n        \\\"discaffw\\\",\\n        \\\"fehire\\\",\\n        \\\"relpersn\\\",\\n        \\\"sprtprsn\\\",\\n        \\\"relexp\\\",\\n        \\\"spklang\\\",\\n        \\\"compuse\\\",\\n        \\\"hrsrelax\\\",\\n        \\\"trdunion\\\",\\n        \\\"wkracism\\\",\\n        \\\"wksexism\\\",\\n        \\\"wkharsex\\\",\\n        \\\"databank\\\",\\n        \\\"goodlife\\\",\\n        \\\"meovrwrk\\\",\\n        \\\"miracles\\\",\\n        \\\"relexper\\\",\\n        \\\"relactiv\\\",\\n        \\\"matesex\\\",\\n        \\\"frndsex\\\",\\n        \\\"acqntsex\\\",\\n        \\\"pikupsex\\\",\\n        \\\"paidsex\\\",\\n        \\\"othersex\\\",\\n        \\\"sexsex\\\",\\n        \\\"sexfreq\\\",\\n        \\\"sexsex5\\\",\\n        \\\"sexornt\\\",\\n        \\\"hhrace\\\",\\n        \\\"cohort\\\",\\n        \\\"ballot\\\",\\n        \\\"wtssall\\\",\\n        \\\"wtssps\\\",\\n        \\\"sexbirth\\\",\\n        \\\"sexnow\\\",\\n        \\\"eqwlth\\\",\\n        \\\"realinc\\\",\\n        \\\"realrinc\\\",\\n        \\\"coninc\\\",\\n        \\\"conrinc\\\",\\n        \\\"commun\\\",\\n    ]\\n)\";\n",
       "                var nbb_cells = Jupyter.notebook.get_cells();\n",
       "                for (var i = 0; i < nbb_cells.length; ++i) {\n",
       "                    if (nbb_cells[i].input_prompt_number == nbb_cell_id) {\n",
       "                        if (nbb_cells[i].get_text() == nbb_unformatted_code) {\n",
       "                             nbb_cells[i].set_text(nbb_formatted_code);\n",
       "                        }\n",
       "                        break;\n",
       "                    }\n",
       "                }\n",
       "            }, 500);\n",
       "            "
      ],
      "text/plain": [
       "<IPython.core.display.Javascript object>"
      ]
     },
     "metadata": {},
     "output_type": "display_data"
    }
   ],
   "source": [
    "columns = sorted(\n",
    "    [\n",
    "        \"year\",\n",
    "        \"id\",\n",
    "        \"divorce\",\n",
    "        \"sibs\",\n",
    "        \"childs\",\n",
    "        \"age\",\n",
    "        \"educ\",\n",
    "        \"degree\",\n",
    "        \"sex\",\n",
    "        \"race\",\n",
    "        \"res16\",\n",
    "        \"reg16\",\n",
    "        \"adults\",\n",
    "        \"income\",\n",
    "        \"rincome\",\n",
    "        \"region\",\n",
    "        \"srcbelt\",\n",
    "        \"partyid\",\n",
    "        \"pres96\",\n",
    "        \"pres00\",\n",
    "        \"pres04\",\n",
    "        \"pres08\",\n",
    "        \"pres12\",\n",
    "        \"polviews\",\n",
    "        \"natspac\",\n",
    "        \"natenvir\",\n",
    "        \"natheal\",\n",
    "        \"natcity\",\n",
    "        \"natcrime\",\n",
    "        \"natdrug\",\n",
    "        \"nateduc\",\n",
    "        \"natrace\",\n",
    "        \"natarms\",\n",
    "        \"nataid\",\n",
    "        \"natfare\",\n",
    "        \"natroad\",\n",
    "        \"natsoc\",\n",
    "        \"natmass\",\n",
    "        \"natpark\",\n",
    "        \"natchld\",\n",
    "        \"natsci\",\n",
    "        \"natenrgy\",\n",
    "        \"spkath\",\n",
    "        \"colath\",\n",
    "        \"libath\",\n",
    "        \"spksoc\",\n",
    "        \"colsoc\",\n",
    "        \"libsoc\",\n",
    "        \"spkrac\",\n",
    "        \"colrac\",\n",
    "        \"librac\",\n",
    "        \"spkcom\",\n",
    "        \"colcom\",\n",
    "        \"libcom\",\n",
    "        \"spkmil\",\n",
    "        \"colmil\",\n",
    "        \"libmil\",\n",
    "        \"spkhomo\",\n",
    "        \"colhomo\",\n",
    "        \"libhomo\",\n",
    "        \"spkmslm\",\n",
    "        \"colmslm\",\n",
    "        \"libmslm\",\n",
    "        \"cappun\",\n",
    "        \"gunlaw\",\n",
    "        \"grass\",\n",
    "        \"relig\",\n",
    "        \"fund\",\n",
    "        \"attend\",\n",
    "        \"reliten\",\n",
    "        \"postlife\",\n",
    "        \"pray\",\n",
    "        \"popespks\",\n",
    "        \"relig16\",\n",
    "        \"prayer\",\n",
    "        \"bible\",\n",
    "        \"racmar\",\n",
    "        \"racdin\",\n",
    "        \"racpush\",\n",
    "        \"racseg\",\n",
    "        \"racopen\",\n",
    "        \"raclive\",\n",
    "        \"racclos\",\n",
    "        \"racdis\",\n",
    "        \"racinteg\",\n",
    "        \"rachome\",\n",
    "        \"racschol\",\n",
    "        \"racfew\",\n",
    "        \"rachaf\",\n",
    "        \"racmost\",\n",
    "        \"racpres\",\n",
    "        \"racchurh\",\n",
    "        \"affrmact\",\n",
    "        \"happy\",\n",
    "        \"hapmar\",\n",
    "        \"health\",\n",
    "        \"life\",\n",
    "        \"helpful\",\n",
    "        \"fair\",\n",
    "        \"trust\",\n",
    "        \"confinan\",\n",
    "        \"conbus\",\n",
    "        \"conclerg\",\n",
    "        \"coneduc\",\n",
    "        \"confed\",\n",
    "        \"conlabor\",\n",
    "        \"conpress\",\n",
    "        \"conmedic\",\n",
    "        \"contv\",\n",
    "        \"conjudge\",\n",
    "        \"consci\",\n",
    "        \"conlegis\",\n",
    "        \"conarmy\",\n",
    "        \"satjob\",\n",
    "        \"class\",\n",
    "        \"satfin\",\n",
    "        \"finrela\",\n",
    "        \"union\",\n",
    "        \"fehome\",\n",
    "        \"fework\",\n",
    "        \"fepres\",\n",
    "        \"fepol\",\n",
    "        \"abdefect\",\n",
    "        \"abnomore\",\n",
    "        \"abhlth\",\n",
    "        \"abpoor\",\n",
    "        \"abrape\",\n",
    "        \"absingle\",\n",
    "        \"abany\",\n",
    "        \"chldidel\",\n",
    "        \"sexeduc\",\n",
    "        \"divlaw\",\n",
    "        \"premarsx\",\n",
    "        \"teensex\",\n",
    "        \"xmarsex\",\n",
    "        \"homosex\",\n",
    "        \"pornlaw\",\n",
    "        \"spanking\",\n",
    "        \"letdie1\",\n",
    "        \"polhitok\",\n",
    "        \"polabuse\",\n",
    "        \"polmurdr\",\n",
    "        \"polescap\",\n",
    "        \"polattak\",\n",
    "        \"fear\",\n",
    "        \"owngun\",\n",
    "        \"pistol\",\n",
    "        \"rowngun\",\n",
    "        \"hunt\",\n",
    "        \"phone\",\n",
    "        \"fechld\",\n",
    "        \"fehelp\",\n",
    "        \"fepresch\",\n",
    "        \"fefam\",\n",
    "        \"racdif1\",\n",
    "        \"racdif2\",\n",
    "        \"racdif3\",\n",
    "        \"racdif4\",\n",
    "        \"god\",\n",
    "        \"reborn\",\n",
    "        \"savesoul\",\n",
    "        \"racwork\",\n",
    "        \"fejobaff\",\n",
    "        \"discaffm\",\n",
    "        \"discaffw\",\n",
    "        \"fehire\",\n",
    "        \"relpersn\",\n",
    "        \"sprtprsn\",\n",
    "        \"relexp\",\n",
    "        \"spklang\",\n",
    "        \"compuse\",\n",
    "        \"hrsrelax\",\n",
    "        \"trdunion\",\n",
    "        \"wkracism\",\n",
    "        \"wksexism\",\n",
    "        \"wkharsex\",\n",
    "        \"databank\",\n",
    "        \"goodlife\",\n",
    "        \"meovrwrk\",\n",
    "        \"miracles\",\n",
    "        \"relexper\",\n",
    "        \"relactiv\",\n",
    "        \"matesex\",\n",
    "        \"frndsex\",\n",
    "        \"acqntsex\",\n",
    "        \"pikupsex\",\n",
    "        \"paidsex\",\n",
    "        \"othersex\",\n",
    "        \"sexsex\",\n",
    "        \"sexfreq\",\n",
    "        \"sexsex5\",\n",
    "        \"sexornt\",\n",
    "        \"hhrace\",\n",
    "        \"cohort\",\n",
    "        \"ballot\",\n",
    "        \"wtssall\",\n",
    "        \"wtssps\",\n",
    "        \"sexbirth\",\n",
    "        \"sexnow\",\n",
    "        \"eqwlth\",\n",
    "        \"realinc\",\n",
    "        \"realrinc\",\n",
    "        \"coninc\",\n",
    "        \"conrinc\",\n",
    "        \"commun\",\n",
    "    ]\n",
    ")"
   ]
  },
  {
   "cell_type": "code",
   "execution_count": 4,
   "metadata": {},
   "outputs": [
    {
     "data": {
      "application/javascript": [
       "\n",
       "            setTimeout(function() {\n",
       "                var nbb_cell_id = 4;\n",
       "                var nbb_unformatted_code = \"filename = \\\"../data/raw/gss7222_r1.dta\\\"\\n\\ngss = pd.read_stata(filename, columns=columns, convert_categoricals=False)\";\n",
       "                var nbb_formatted_code = \"filename = \\\"../data/raw/gss7222_r1.dta\\\"\\n\\ngss = pd.read_stata(filename, columns=columns, convert_categoricals=False)\";\n",
       "                var nbb_cells = Jupyter.notebook.get_cells();\n",
       "                for (var i = 0; i < nbb_cells.length; ++i) {\n",
       "                    if (nbb_cells[i].input_prompt_number == nbb_cell_id) {\n",
       "                        if (nbb_cells[i].get_text() == nbb_unformatted_code) {\n",
       "                             nbb_cells[i].set_text(nbb_formatted_code);\n",
       "                        }\n",
       "                        break;\n",
       "                    }\n",
       "                }\n",
       "            }, 500);\n",
       "            "
      ],
      "text/plain": [
       "<IPython.core.display.Javascript object>"
      ]
     },
     "metadata": {},
     "output_type": "display_data"
    }
   ],
   "source": [
    "filename = \"../data/raw/gss7222_r1.dta\"\n",
    "\n",
    "gss = pd.read_stata(filename, columns=columns, convert_categoricals=False)"
   ]
  },
  {
   "cell_type": "code",
   "execution_count": 5,
   "metadata": {},
   "outputs": [
    {
     "data": {
      "text/plain": [
       "count    72390.000000\n",
       "mean         1.000014\n",
       "std          0.550871\n",
       "min          0.073972\n",
       "25%          0.549300\n",
       "50%          0.961700\n",
       "75%          1.098500\n",
       "max         14.272462\n",
       "Name: wtssall, dtype: float64"
      ]
     },
     "execution_count": 5,
     "metadata": {},
     "output_type": "execute_result"
    },
    {
     "data": {
      "application/javascript": [
       "\n",
       "            setTimeout(function() {\n",
       "                var nbb_cell_id = 5;\n",
       "                var nbb_unformatted_code = \"# weights are different in 2021; mixing them in would be problematic,\\n# but we only use them for resampling within one year of the survey\\ngss[\\\"wtssall\\\"].fillna(gss[\\\"wtssps\\\"], inplace=True)\\ngss[\\\"wtssall\\\"].describe()\";\n",
       "                var nbb_formatted_code = \"# weights are different in 2021; mixing them in would be problematic,\\n# but we only use them for resampling within one year of the survey\\ngss[\\\"wtssall\\\"].fillna(gss[\\\"wtssps\\\"], inplace=True)\\ngss[\\\"wtssall\\\"].describe()\";\n",
       "                var nbb_cells = Jupyter.notebook.get_cells();\n",
       "                for (var i = 0; i < nbb_cells.length; ++i) {\n",
       "                    if (nbb_cells[i].input_prompt_number == nbb_cell_id) {\n",
       "                        if (nbb_cells[i].get_text() == nbb_unformatted_code) {\n",
       "                             nbb_cells[i].set_text(nbb_formatted_code);\n",
       "                        }\n",
       "                        break;\n",
       "                    }\n",
       "                }\n",
       "            }, 500);\n",
       "            "
      ],
      "text/plain": [
       "<IPython.core.display.Javascript object>"
      ]
     },
     "metadata": {},
     "output_type": "display_data"
    }
   ],
   "source": [
    "# weights are different in 2021; mixing them in would be problematic,\n",
    "# but we only use them for resampling within one year of the survey\n",
    "gss[\"wtssall\"].fillna(gss[\"wtssps\"], inplace=True)\n",
    "gss[\"wtssall\"].describe()"
   ]
  },
  {
   "cell_type": "code",
   "execution_count": 6,
   "metadata": {},
   "outputs": [
    {
     "data": {
      "application/javascript": [
       "\n",
       "            setTimeout(function() {\n",
       "                var nbb_cell_id = 6;\n",
       "                var nbb_unformatted_code = \"del gss['wtssps']\";\n",
       "                var nbb_formatted_code = \"del gss[\\\"wtssps\\\"]\";\n",
       "                var nbb_cells = Jupyter.notebook.get_cells();\n",
       "                for (var i = 0; i < nbb_cells.length; ++i) {\n",
       "                    if (nbb_cells[i].input_prompt_number == nbb_cell_id) {\n",
       "                        if (nbb_cells[i].get_text() == nbb_unformatted_code) {\n",
       "                             nbb_cells[i].set_text(nbb_formatted_code);\n",
       "                        }\n",
       "                        break;\n",
       "                    }\n",
       "                }\n",
       "            }, 500);\n",
       "            "
      ],
      "text/plain": [
       "<IPython.core.display.Javascript object>"
      ]
     },
     "metadata": {},
     "output_type": "display_data"
    }
   ],
   "source": [
    "del gss[\"wtssps\"]"
   ]
  },
  {
   "cell_type": "code",
   "execution_count": 7,
   "metadata": {},
   "outputs": [
    {
     "name": "stdout",
     "output_type": "stream",
     "text": [
      "(72390, 204)\n"
     ]
    },
    {
     "data": {
      "text/html": [
       "<div>\n",
       "<style scoped>\n",
       "    .dataframe tbody tr th:only-of-type {\n",
       "        vertical-align: middle;\n",
       "    }\n",
       "\n",
       "    .dataframe tbody tr th {\n",
       "        vertical-align: top;\n",
       "    }\n",
       "\n",
       "    .dataframe thead th {\n",
       "        text-align: right;\n",
       "    }\n",
       "</style>\n",
       "<table border=\"1\" class=\"dataframe\">\n",
       "  <thead>\n",
       "    <tr style=\"text-align: right;\">\n",
       "      <th></th>\n",
       "      <th>abany</th>\n",
       "      <th>abdefect</th>\n",
       "      <th>abhlth</th>\n",
       "      <th>abnomore</th>\n",
       "      <th>abpoor</th>\n",
       "      <th>abrape</th>\n",
       "      <th>absingle</th>\n",
       "      <th>acqntsex</th>\n",
       "      <th>adults</th>\n",
       "      <th>affrmact</th>\n",
       "      <th>...</th>\n",
       "      <th>teensex</th>\n",
       "      <th>trdunion</th>\n",
       "      <th>trust</th>\n",
       "      <th>union</th>\n",
       "      <th>wkharsex</th>\n",
       "      <th>wkracism</th>\n",
       "      <th>wksexism</th>\n",
       "      <th>wtssall</th>\n",
       "      <th>xmarsex</th>\n",
       "      <th>year</th>\n",
       "    </tr>\n",
       "  </thead>\n",
       "  <tbody>\n",
       "    <tr>\n",
       "      <th>0</th>\n",
       "      <td>NaN</td>\n",
       "      <td>1.0</td>\n",
       "      <td>1.0</td>\n",
       "      <td>1.0</td>\n",
       "      <td>1.0</td>\n",
       "      <td>1.0</td>\n",
       "      <td>1.0</td>\n",
       "      <td>NaN</td>\n",
       "      <td>1.0</td>\n",
       "      <td>NaN</td>\n",
       "      <td>...</td>\n",
       "      <td>NaN</td>\n",
       "      <td>NaN</td>\n",
       "      <td>3.0</td>\n",
       "      <td>NaN</td>\n",
       "      <td>NaN</td>\n",
       "      <td>NaN</td>\n",
       "      <td>NaN</td>\n",
       "      <td>0.4446</td>\n",
       "      <td>NaN</td>\n",
       "      <td>1972</td>\n",
       "    </tr>\n",
       "    <tr>\n",
       "      <th>1</th>\n",
       "      <td>NaN</td>\n",
       "      <td>1.0</td>\n",
       "      <td>1.0</td>\n",
       "      <td>2.0</td>\n",
       "      <td>2.0</td>\n",
       "      <td>1.0</td>\n",
       "      <td>1.0</td>\n",
       "      <td>NaN</td>\n",
       "      <td>2.0</td>\n",
       "      <td>NaN</td>\n",
       "      <td>...</td>\n",
       "      <td>NaN</td>\n",
       "      <td>NaN</td>\n",
       "      <td>1.0</td>\n",
       "      <td>NaN</td>\n",
       "      <td>NaN</td>\n",
       "      <td>NaN</td>\n",
       "      <td>NaN</td>\n",
       "      <td>0.8893</td>\n",
       "      <td>NaN</td>\n",
       "      <td>1972</td>\n",
       "    </tr>\n",
       "    <tr>\n",
       "      <th>2</th>\n",
       "      <td>NaN</td>\n",
       "      <td>1.0</td>\n",
       "      <td>1.0</td>\n",
       "      <td>1.0</td>\n",
       "      <td>1.0</td>\n",
       "      <td>1.0</td>\n",
       "      <td>1.0</td>\n",
       "      <td>NaN</td>\n",
       "      <td>2.0</td>\n",
       "      <td>NaN</td>\n",
       "      <td>...</td>\n",
       "      <td>NaN</td>\n",
       "      <td>NaN</td>\n",
       "      <td>2.0</td>\n",
       "      <td>NaN</td>\n",
       "      <td>NaN</td>\n",
       "      <td>NaN</td>\n",
       "      <td>NaN</td>\n",
       "      <td>0.8893</td>\n",
       "      <td>NaN</td>\n",
       "      <td>1972</td>\n",
       "    </tr>\n",
       "    <tr>\n",
       "      <th>3</th>\n",
       "      <td>NaN</td>\n",
       "      <td>2.0</td>\n",
       "      <td>1.0</td>\n",
       "      <td>2.0</td>\n",
       "      <td>1.0</td>\n",
       "      <td>1.0</td>\n",
       "      <td>1.0</td>\n",
       "      <td>NaN</td>\n",
       "      <td>2.0</td>\n",
       "      <td>NaN</td>\n",
       "      <td>...</td>\n",
       "      <td>NaN</td>\n",
       "      <td>NaN</td>\n",
       "      <td>2.0</td>\n",
       "      <td>NaN</td>\n",
       "      <td>NaN</td>\n",
       "      <td>NaN</td>\n",
       "      <td>NaN</td>\n",
       "      <td>0.8893</td>\n",
       "      <td>NaN</td>\n",
       "      <td>1972</td>\n",
       "    </tr>\n",
       "    <tr>\n",
       "      <th>4</th>\n",
       "      <td>NaN</td>\n",
       "      <td>1.0</td>\n",
       "      <td>1.0</td>\n",
       "      <td>1.0</td>\n",
       "      <td>1.0</td>\n",
       "      <td>1.0</td>\n",
       "      <td>1.0</td>\n",
       "      <td>NaN</td>\n",
       "      <td>2.0</td>\n",
       "      <td>NaN</td>\n",
       "      <td>...</td>\n",
       "      <td>NaN</td>\n",
       "      <td>NaN</td>\n",
       "      <td>2.0</td>\n",
       "      <td>NaN</td>\n",
       "      <td>NaN</td>\n",
       "      <td>NaN</td>\n",
       "      <td>NaN</td>\n",
       "      <td>0.8893</td>\n",
       "      <td>NaN</td>\n",
       "      <td>1972</td>\n",
       "    </tr>\n",
       "  </tbody>\n",
       "</table>\n",
       "<p>5 rows × 204 columns</p>\n",
       "</div>"
      ],
      "text/plain": [
       "   abany  abdefect  abhlth  abnomore  abpoor  abrape  absingle  acqntsex  \\\n",
       "0    NaN       1.0     1.0       1.0     1.0     1.0       1.0       NaN   \n",
       "1    NaN       1.0     1.0       2.0     2.0     1.0       1.0       NaN   \n",
       "2    NaN       1.0     1.0       1.0     1.0     1.0       1.0       NaN   \n",
       "3    NaN       2.0     1.0       2.0     1.0     1.0       1.0       NaN   \n",
       "4    NaN       1.0     1.0       1.0     1.0     1.0       1.0       NaN   \n",
       "\n",
       "   adults  affrmact  ...  teensex  trdunion  trust  union  wkharsex  wkracism  \\\n",
       "0     1.0       NaN  ...      NaN       NaN    3.0    NaN       NaN       NaN   \n",
       "1     2.0       NaN  ...      NaN       NaN    1.0    NaN       NaN       NaN   \n",
       "2     2.0       NaN  ...      NaN       NaN    2.0    NaN       NaN       NaN   \n",
       "3     2.0       NaN  ...      NaN       NaN    2.0    NaN       NaN       NaN   \n",
       "4     2.0       NaN  ...      NaN       NaN    2.0    NaN       NaN       NaN   \n",
       "\n",
       "   wksexism  wtssall  xmarsex  year  \n",
       "0       NaN   0.4446      NaN  1972  \n",
       "1       NaN   0.8893      NaN  1972  \n",
       "2       NaN   0.8893      NaN  1972  \n",
       "3       NaN   0.8893      NaN  1972  \n",
       "4       NaN   0.8893      NaN  1972  \n",
       "\n",
       "[5 rows x 204 columns]"
      ]
     },
     "execution_count": 7,
     "metadata": {},
     "output_type": "execute_result"
    },
    {
     "data": {
      "application/javascript": [
       "\n",
       "            setTimeout(function() {\n",
       "                var nbb_cell_id = 7;\n",
       "                var nbb_unformatted_code = \"print(gss.shape)\\ngss.head()\";\n",
       "                var nbb_formatted_code = \"print(gss.shape)\\ngss.head()\";\n",
       "                var nbb_cells = Jupyter.notebook.get_cells();\n",
       "                for (var i = 0; i < nbb_cells.length; ++i) {\n",
       "                    if (nbb_cells[i].input_prompt_number == nbb_cell_id) {\n",
       "                        if (nbb_cells[i].get_text() == nbb_unformatted_code) {\n",
       "                             nbb_cells[i].set_text(nbb_formatted_code);\n",
       "                        }\n",
       "                        break;\n",
       "                    }\n",
       "                }\n",
       "            }, 500);\n",
       "            "
      ],
      "text/plain": [
       "<IPython.core.display.Javascript object>"
      ]
     },
     "metadata": {},
     "output_type": "display_data"
    }
   ],
   "source": [
    "print(gss.shape)\n",
    "gss.head()"
   ]
  },
  {
   "cell_type": "code",
   "execution_count": 8,
   "metadata": {},
   "outputs": [
    {
     "data": {
      "application/javascript": [
       "\n",
       "            setTimeout(function() {\n",
       "                var nbb_cell_id = 8;\n",
       "                var nbb_unformatted_code = \"!rm -f ../data/interim/gss_eds_2022.hdf\";\n",
       "                var nbb_formatted_code = \"!rm -f ../data/interim/gss_eds_2022.hdf\";\n",
       "                var nbb_cells = Jupyter.notebook.get_cells();\n",
       "                for (var i = 0; i < nbb_cells.length; ++i) {\n",
       "                    if (nbb_cells[i].input_prompt_number == nbb_cell_id) {\n",
       "                        if (nbb_cells[i].get_text() == nbb_unformatted_code) {\n",
       "                             nbb_cells[i].set_text(nbb_formatted_code);\n",
       "                        }\n",
       "                        break;\n",
       "                    }\n",
       "                }\n",
       "            }, 500);\n",
       "            "
      ],
      "text/plain": [
       "<IPython.core.display.Javascript object>"
      ]
     },
     "metadata": {},
     "output_type": "display_data"
    }
   ],
   "source": [
    "!rm -f ../data/interim/gss_eds_2022.hdf"
   ]
  },
  {
   "cell_type": "code",
   "execution_count": 9,
   "metadata": {},
   "outputs": [
    {
     "data": {
      "application/javascript": [
       "\n",
       "            setTimeout(function() {\n",
       "                var nbb_cell_id = 9;\n",
       "                var nbb_unformatted_code = \"gss.to_hdf('../data/interim/gss_eds_2022.hdf', 'gss', complevel=6)\";\n",
       "                var nbb_formatted_code = \"gss.to_hdf(\\\"../data/interim/gss_eds_2022.hdf\\\", \\\"gss\\\", complevel=6)\";\n",
       "                var nbb_cells = Jupyter.notebook.get_cells();\n",
       "                for (var i = 0; i < nbb_cells.length; ++i) {\n",
       "                    if (nbb_cells[i].input_prompt_number == nbb_cell_id) {\n",
       "                        if (nbb_cells[i].get_text() == nbb_unformatted_code) {\n",
       "                             nbb_cells[i].set_text(nbb_formatted_code);\n",
       "                        }\n",
       "                        break;\n",
       "                    }\n",
       "                }\n",
       "            }, 500);\n",
       "            "
      ],
      "text/plain": [
       "<IPython.core.display.Javascript object>"
      ]
     },
     "metadata": {},
     "output_type": "display_data"
    }
   ],
   "source": [
    "gss.to_hdf(\"../data/interim/gss_eds_2022.hdf\", \"gss\", complevel=6)"
   ]
  },
  {
   "cell_type": "code",
   "execution_count": 10,
   "metadata": {},
   "outputs": [
    {
     "name": "stdout",
     "output_type": "stream",
     "text": [
      "-rw-rw-r-- 1 downey downey 9.0M Jul 24 15:58 ../data/interim/gss_eds_2022.hdf\r\n"
     ]
    },
    {
     "data": {
      "application/javascript": [
       "\n",
       "            setTimeout(function() {\n",
       "                var nbb_cell_id = 10;\n",
       "                var nbb_unformatted_code = \"!ls -lh ../data/interim/gss_eds_2022.hdf\";\n",
       "                var nbb_formatted_code = \"!ls -lh ../data/interim/gss_eds_2022.hdf\";\n",
       "                var nbb_cells = Jupyter.notebook.get_cells();\n",
       "                for (var i = 0; i < nbb_cells.length; ++i) {\n",
       "                    if (nbb_cells[i].input_prompt_number == nbb_cell_id) {\n",
       "                        if (nbb_cells[i].get_text() == nbb_unformatted_code) {\n",
       "                             nbb_cells[i].set_text(nbb_formatted_code);\n",
       "                        }\n",
       "                        break;\n",
       "                    }\n",
       "                }\n",
       "            }, 500);\n",
       "            "
      ],
      "text/plain": [
       "<IPython.core.display.Javascript object>"
      ]
     },
     "metadata": {},
     "output_type": "display_data"
    }
   ],
   "source": [
    "!ls -lh ../data/interim/gss_eds_2022.hdf"
   ]
  },
  {
   "cell_type": "code",
   "execution_count": 11,
   "metadata": {},
   "outputs": [
    {
     "name": "stdout",
     "output_type": "stream",
     "text": [
      "[main 6a5f398] Updating EDS data file\n",
      " 1 file changed, 0 insertions(+), 0 deletions(-)\n",
      " create mode 100644 data/interim/gss_eds_2022.hdf\n",
      "Enumerating objects: 8, done.\n",
      "Counting objects: 100% (8/8), done.\n",
      "Delta compression using up to 12 threads\n",
      "Compressing objects: 100% (4/4), done.\n",
      "Writing objects: 100% (5/5), 8.61 MiB | 5.20 MiB/s, done.\n",
      "Total 5 (delta 2), reused 0 (delta 0)\n",
      "remote: Resolving deltas: 100% (2/2), completed with 2 local objects.\u001b[K\n",
      "To https://github.com/AllenDowney/GssExtract.git\n",
      "   869670c..6a5f398  main -> main\n"
     ]
    },
    {
     "data": {
      "application/javascript": [
       "\n",
       "            setTimeout(function() {\n",
       "                var nbb_cell_id = 11;\n",
       "                var nbb_unformatted_code = \"!git add -f ../data/interim/gss_eds_2022.hdf\\n!git commit -m \\\"Updating EDS data file\\\"\\n!git push\";\n",
       "                var nbb_formatted_code = \"!git add -f ../data/interim/gss_eds_2022.hdf\\n!git commit -m \\\"Updating EDS data file\\\"\\n!git push\";\n",
       "                var nbb_cells = Jupyter.notebook.get_cells();\n",
       "                for (var i = 0; i < nbb_cells.length; ++i) {\n",
       "                    if (nbb_cells[i].input_prompt_number == nbb_cell_id) {\n",
       "                        if (nbb_cells[i].get_text() == nbb_unformatted_code) {\n",
       "                             nbb_cells[i].set_text(nbb_formatted_code);\n",
       "                        }\n",
       "                        break;\n",
       "                    }\n",
       "                }\n",
       "            }, 500);\n",
       "            "
      ],
      "text/plain": [
       "<IPython.core.display.Javascript object>"
      ]
     },
     "metadata": {},
     "output_type": "display_data"
    }
   ],
   "source": [
    "!git add -f ../data/interim/gss_eds_2022.hdf\n",
    "!git commit -m \"Updating EDS data file\"\n",
    "!git push"
   ]
  },
  {
   "cell_type": "code",
   "execution_count": null,
   "metadata": {},
   "outputs": [],
   "source": []
  }
 ],
 "metadata": {
  "interpreter": {
   "hash": "af43c3c4197469e42a8c620d17365aec73541d988a414c33dbec45347513dfbc"
  },
  "kernelspec": {
   "display_name": "Python 3 (ipykernel)",
   "language": "python",
   "name": "python3"
  },
  "language_info": {
   "codemirror_mode": {
    "name": "ipython",
    "version": 3
   },
   "file_extension": ".py",
   "mimetype": "text/x-python",
   "name": "python",
   "nbconvert_exporter": "python",
   "pygments_lexer": "ipython3",
   "version": "3.10.12"
  }
 },
 "nbformat": 4,
 "nbformat_minor": 1
}
