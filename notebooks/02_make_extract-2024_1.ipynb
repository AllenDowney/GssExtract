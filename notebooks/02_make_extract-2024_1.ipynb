{
 "cells": [
  {
   "cell_type": "markdown",
   "metadata": {},
   "source": [
    "# Extract GSS 2024 r1\n",
    "\n",
    "Allen Downey\n",
    "\n",
    "[MIT License](https://en.wikipedia.org/wiki/MIT_License)"
   ]
  },
  {
   "cell_type": "code",
   "execution_count": 3,
   "metadata": {},
   "outputs": [],
   "source": [
    "import pandas as pd\n",
    "import numpy as np\n",
    "import matplotlib.pyplot as plt\n",
    "\n",
    "from utils import resample_by_year"
   ]
  },
  {
   "cell_type": "markdown",
   "metadata": {},
   "source": [
    "Download the Stata data from https://gss.norc.org/get-the-data/stata\n",
    "\n",
    "Move to data/raw and unzip\n"
   ]
  },
  {
   "cell_type": "code",
   "execution_count": 4,
   "metadata": {},
   "outputs": [
    {
     "name": "stdout",
     "output_type": "stream",
     "text": [
      "gss7221_r2.dta.gz  gss7222_r3a.dta.gz  gss7224_r1.dta.gz\r\n",
      "gss7222_r1.dta.gz  gss7222_r3.dta.gz   GSS_stata\r\n",
      "gss7222_r2.dta.gz  gss7222_r4.dta.gz   GSS_stata.zip\r\n"
     ]
    }
   ],
   "source": [
    "!ls ../data/raw/"
   ]
  },
  {
   "cell_type": "code",
   "execution_count": 5,
   "metadata": {},
   "outputs": [],
   "source": [
    "filename = \"../data/raw/gss7224_r1.dta.gz\""
   ]
  },
  {
   "cell_type": "code",
   "execution_count": 6,
   "metadata": {},
   "outputs": [],
   "source": [
    "columns = sorted(\n",
    "    [\n",
    "        \"year\",\n",
    "        \"id\",\n",
    "        \"age\",\n",
    "        \"cohort\",\n",
    "        \"educ\",\n",
    "        \"degree\",\n",
    "        \"sex\",\n",
    "        \"race\",\n",
    "        \"res16\",\n",
    "        \"reg16\",\n",
    "        \"rincome\",\n",
    "        \"region\",\n",
    "        \"srcbelt\",\n",
    "        \"partyid\",\n",
    "        \"polviews\",\n",
    "        \"relig\",\n",
    "        \"relig16\",\n",
    "        \"fund\",\n",
    "        \"attend\",\n",
    "        \"reliten\",\n",
    "        \"happy\",\n",
    "        \"hapmar\",\n",
    "        \"health\",\n",
    "        \"life\",\n",
    "        \"fear\",\n",
    "        \"helpful\",\n",
    "        \"fair\",\n",
    "        \"trust\",\n",
    "        \"confinan\",\n",
    "        \"conbus\",\n",
    "        \"conclerg\",\n",
    "        \"coneduc\",\n",
    "        \"confed\",\n",
    "        \"conlabor\",\n",
    "        \"conpress\",\n",
    "        \"conmedic\",\n",
    "        \"contv\",\n",
    "        \"conjudge\",\n",
    "        \"consci\",\n",
    "        \"conlegis\",\n",
    "        \"conarmy\",\n",
    "        \"satjob\",\n",
    "        \"class\",\n",
    "        \"satfin\",\n",
    "        \"goodlife\",\n",
    "        \"ballot\",\n",
    "        \"wtssall\",\n",
    "        \"wtssps\",\n",
    "        \"sexbirth\",\n",
    "        \"sexnow\",\n",
    "        \"sexbirth1\",\n",
    "        \"sexnow1\",\n",
    "        \"eqwlth\",\n",
    "        \"realinc\",\n",
    "        \"realrinc\",\n",
    "        \"coninc\",\n",
    "        \"conrinc\",\n",
    "        \"commun\",\n",
    "        \"clmtcaus\",\n",
    "        \"clmtwrld\",\n",
    "        \"clmtusa\",\n",
    "        \"pres16\",\n",
    "        \"pres20\",\n",
    "    ]\n",
    ")"
   ]
  },
  {
   "cell_type": "code",
   "execution_count": 7,
   "metadata": {},
   "outputs": [],
   "source": [
    "gss = pd.read_stata(filename, columns=columns, convert_categoricals=False)"
   ]
  },
  {
   "cell_type": "code",
   "execution_count": 8,
   "metadata": {},
   "outputs": [
    {
     "data": {
      "text/plain": [
       "count    75699.000000\n",
       "mean         1.000013\n",
       "std          0.576286\n",
       "min          0.073972\n",
       "25%          0.549300\n",
       "50%          0.956994\n",
       "75%          1.098500\n",
       "max         14.272462\n",
       "Name: wtssall, dtype: float64"
      ]
     },
     "execution_count": 8,
     "metadata": {},
     "output_type": "execute_result"
    }
   ],
   "source": [
    "# weights are different in 2021 and 2022 so mixing them in might seem like a bad idea,\n",
    "# but we only use them for resampling within one year of the survey,\n",
    "# so I think it's ok\n",
    "gss[\"wtssall\"].fillna(gss[\"wtssps\"], inplace=True)\n",
    "gss[\"wtssall\"].describe()"
   ]
  },
  {
   "cell_type": "code",
   "execution_count": 9,
   "metadata": {},
   "outputs": [],
   "source": [
    "del gss[\"wtssps\"]"
   ]
  },
  {
   "cell_type": "code",
   "execution_count": 10,
   "metadata": {},
   "outputs": [
    {
     "name": "stdout",
     "output_type": "stream",
     "text": [
      "(75699, 62)\n"
     ]
    },
    {
     "data": {
      "text/html": [
       "<div>\n",
       "<style scoped>\n",
       "    .dataframe tbody tr th:only-of-type {\n",
       "        vertical-align: middle;\n",
       "    }\n",
       "\n",
       "    .dataframe tbody tr th {\n",
       "        vertical-align: top;\n",
       "    }\n",
       "\n",
       "    .dataframe thead th {\n",
       "        text-align: right;\n",
       "    }\n",
       "</style>\n",
       "<table border=\"1\" class=\"dataframe\">\n",
       "  <thead>\n",
       "    <tr style=\"text-align: right;\">\n",
       "      <th></th>\n",
       "      <th>age</th>\n",
       "      <th>attend</th>\n",
       "      <th>ballot</th>\n",
       "      <th>class</th>\n",
       "      <th>clmtcaus</th>\n",
       "      <th>clmtusa</th>\n",
       "      <th>clmtwrld</th>\n",
       "      <th>cohort</th>\n",
       "      <th>commun</th>\n",
       "      <th>conarmy</th>\n",
       "      <th>...</th>\n",
       "      <th>satjob</th>\n",
       "      <th>sex</th>\n",
       "      <th>sexbirth</th>\n",
       "      <th>sexbirth1</th>\n",
       "      <th>sexnow</th>\n",
       "      <th>sexnow1</th>\n",
       "      <th>srcbelt</th>\n",
       "      <th>trust</th>\n",
       "      <th>wtssall</th>\n",
       "      <th>year</th>\n",
       "    </tr>\n",
       "  </thead>\n",
       "  <tbody>\n",
       "    <tr>\n",
       "      <th>0</th>\n",
       "      <td>23.0</td>\n",
       "      <td>2.0</td>\n",
       "      <td>NaN</td>\n",
       "      <td>3.0</td>\n",
       "      <td>NaN</td>\n",
       "      <td>NaN</td>\n",
       "      <td>NaN</td>\n",
       "      <td>1949.0</td>\n",
       "      <td>NaN</td>\n",
       "      <td>NaN</td>\n",
       "      <td>...</td>\n",
       "      <td>3.0</td>\n",
       "      <td>2.0</td>\n",
       "      <td>NaN</td>\n",
       "      <td>NaN</td>\n",
       "      <td>NaN</td>\n",
       "      <td>NaN</td>\n",
       "      <td>3.0</td>\n",
       "      <td>3.0</td>\n",
       "      <td>0.4446</td>\n",
       "      <td>1972</td>\n",
       "    </tr>\n",
       "    <tr>\n",
       "      <th>1</th>\n",
       "      <td>70.0</td>\n",
       "      <td>7.0</td>\n",
       "      <td>NaN</td>\n",
       "      <td>3.0</td>\n",
       "      <td>NaN</td>\n",
       "      <td>NaN</td>\n",
       "      <td>NaN</td>\n",
       "      <td>1902.0</td>\n",
       "      <td>NaN</td>\n",
       "      <td>NaN</td>\n",
       "      <td>...</td>\n",
       "      <td>NaN</td>\n",
       "      <td>1.0</td>\n",
       "      <td>NaN</td>\n",
       "      <td>NaN</td>\n",
       "      <td>NaN</td>\n",
       "      <td>NaN</td>\n",
       "      <td>3.0</td>\n",
       "      <td>1.0</td>\n",
       "      <td>0.8893</td>\n",
       "      <td>1972</td>\n",
       "    </tr>\n",
       "    <tr>\n",
       "      <th>2</th>\n",
       "      <td>48.0</td>\n",
       "      <td>4.0</td>\n",
       "      <td>NaN</td>\n",
       "      <td>2.0</td>\n",
       "      <td>NaN</td>\n",
       "      <td>NaN</td>\n",
       "      <td>NaN</td>\n",
       "      <td>1924.0</td>\n",
       "      <td>NaN</td>\n",
       "      <td>NaN</td>\n",
       "      <td>...</td>\n",
       "      <td>2.0</td>\n",
       "      <td>2.0</td>\n",
       "      <td>NaN</td>\n",
       "      <td>NaN</td>\n",
       "      <td>NaN</td>\n",
       "      <td>NaN</td>\n",
       "      <td>3.0</td>\n",
       "      <td>2.0</td>\n",
       "      <td>0.8893</td>\n",
       "      <td>1972</td>\n",
       "    </tr>\n",
       "    <tr>\n",
       "      <th>3</th>\n",
       "      <td>27.0</td>\n",
       "      <td>0.0</td>\n",
       "      <td>NaN</td>\n",
       "      <td>3.0</td>\n",
       "      <td>NaN</td>\n",
       "      <td>NaN</td>\n",
       "      <td>NaN</td>\n",
       "      <td>1945.0</td>\n",
       "      <td>NaN</td>\n",
       "      <td>NaN</td>\n",
       "      <td>...</td>\n",
       "      <td>1.0</td>\n",
       "      <td>2.0</td>\n",
       "      <td>NaN</td>\n",
       "      <td>NaN</td>\n",
       "      <td>NaN</td>\n",
       "      <td>NaN</td>\n",
       "      <td>3.0</td>\n",
       "      <td>2.0</td>\n",
       "      <td>0.8893</td>\n",
       "      <td>1972</td>\n",
       "    </tr>\n",
       "    <tr>\n",
       "      <th>4</th>\n",
       "      <td>61.0</td>\n",
       "      <td>0.0</td>\n",
       "      <td>NaN</td>\n",
       "      <td>2.0</td>\n",
       "      <td>NaN</td>\n",
       "      <td>NaN</td>\n",
       "      <td>NaN</td>\n",
       "      <td>1911.0</td>\n",
       "      <td>NaN</td>\n",
       "      <td>NaN</td>\n",
       "      <td>...</td>\n",
       "      <td>NaN</td>\n",
       "      <td>2.0</td>\n",
       "      <td>NaN</td>\n",
       "      <td>NaN</td>\n",
       "      <td>NaN</td>\n",
       "      <td>NaN</td>\n",
       "      <td>3.0</td>\n",
       "      <td>2.0</td>\n",
       "      <td>0.8893</td>\n",
       "      <td>1972</td>\n",
       "    </tr>\n",
       "  </tbody>\n",
       "</table>\n",
       "<p>5 rows × 62 columns</p>\n",
       "</div>"
      ],
      "text/plain": [
       "    age  attend  ballot  class  clmtcaus  clmtusa  clmtwrld  cohort  commun  \\\n",
       "0  23.0     2.0     NaN    3.0       NaN      NaN       NaN  1949.0     NaN   \n",
       "1  70.0     7.0     NaN    3.0       NaN      NaN       NaN  1902.0     NaN   \n",
       "2  48.0     4.0     NaN    2.0       NaN      NaN       NaN  1924.0     NaN   \n",
       "3  27.0     0.0     NaN    3.0       NaN      NaN       NaN  1945.0     NaN   \n",
       "4  61.0     0.0     NaN    2.0       NaN      NaN       NaN  1911.0     NaN   \n",
       "\n",
       "   conarmy  ...  satjob  sex  sexbirth  sexbirth1  sexnow  sexnow1  srcbelt  \\\n",
       "0      NaN  ...     3.0  2.0       NaN        NaN     NaN      NaN      3.0   \n",
       "1      NaN  ...     NaN  1.0       NaN        NaN     NaN      NaN      3.0   \n",
       "2      NaN  ...     2.0  2.0       NaN        NaN     NaN      NaN      3.0   \n",
       "3      NaN  ...     1.0  2.0       NaN        NaN     NaN      NaN      3.0   \n",
       "4      NaN  ...     NaN  2.0       NaN        NaN     NaN      NaN      3.0   \n",
       "\n",
       "   trust  wtssall  year  \n",
       "0    3.0   0.4446  1972  \n",
       "1    1.0   0.8893  1972  \n",
       "2    2.0   0.8893  1972  \n",
       "3    2.0   0.8893  1972  \n",
       "4    2.0   0.8893  1972  \n",
       "\n",
       "[5 rows x 62 columns]"
      ]
     },
     "execution_count": 10,
     "metadata": {},
     "output_type": "execute_result"
    }
   ],
   "source": [
    "print(gss.shape)\n",
    "gss.head()"
   ]
  },
  {
   "cell_type": "code",
   "execution_count": 11,
   "metadata": {},
   "outputs": [],
   "source": [
    "from utils import resample_by_year\n",
    "\n",
    "np.random.seed(17)\n",
    "sample = resample_by_year(gss, \"wtssall\")"
   ]
  },
  {
   "cell_type": "code",
   "execution_count": 12,
   "metadata": {},
   "outputs": [],
   "source": [
    "!rm -f ../data/interim/gss_extract_2024_1.hdf"
   ]
  },
  {
   "cell_type": "code",
   "execution_count": 13,
   "metadata": {},
   "outputs": [],
   "source": [
    "sample.to_hdf(\"../data/interim/gss_extract_2024_1.hdf\", \"gss\", complevel=6)"
   ]
  },
  {
   "cell_type": "code",
   "execution_count": 14,
   "metadata": {},
   "outputs": [
    {
     "name": "stdout",
     "output_type": "stream",
     "text": [
      "-rw-rw-r-- 1 downey downey 4.1M Aug 13 10:51 ../data/interim/gss_extract_2024_1.hdf\r\n"
     ]
    }
   ],
   "source": [
    "!ls -lh ../data/interim/gss_extract_2024_1.hdf"
   ]
  },
  {
   "cell_type": "code",
   "execution_count": 15,
   "metadata": {},
   "outputs": [
    {
     "name": "stdout",
     "output_type": "stream",
     "text": [
      "[main ad1de11] Updating GSS extract\n",
      " 1 file changed, 0 insertions(+), 0 deletions(-)\n",
      " create mode 100644 data/interim/gss_extract_2024_1.hdf\n",
      "Enumerating objects: 8, done.\n",
      "Counting objects: 100% (8/8), done.\n",
      "Delta compression using up to 12 threads\n",
      "Compressing objects: 100% (4/4), done.\n",
      "Writing objects: 100% (5/5), 3.92 MiB | 2.36 MiB/s, done.\n",
      "Total 5 (delta 2), reused 0 (delta 0)\n",
      "remote: Resolving deltas: 100% (2/2), completed with 2 local objects.\u001b[K\n",
      "To https://github.com/AllenDowney/GssExtract.git\n",
      "   f974baf..ad1de11  main -> main\n"
     ]
    }
   ],
   "source": [
    "!git add -f ../data/interim/gss_extract_2024_1.hdf\n",
    "!git commit -m \"Updating GSS extract\"\n",
    "!git push"
   ]
  },
  {
   "cell_type": "code",
   "execution_count": null,
   "metadata": {},
   "outputs": [],
   "source": []
  }
 ],
 "metadata": {
  "interpreter": {
   "hash": "af43c3c4197469e42a8c620d17365aec73541d988a414c33dbec45347513dfbc"
  },
  "kernelspec": {
   "display_name": "Python 3 (ipykernel)",
   "language": "python",
   "name": "python3"
  },
  "language_info": {
   "codemirror_mode": {
    "name": "ipython",
    "version": 3
   },
   "file_extension": ".py",
   "mimetype": "text/x-python",
   "name": "python",
   "nbconvert_exporter": "python",
   "pygments_lexer": "ipython3",
   "version": "3.10.12"
  }
 },
 "nbformat": 4,
 "nbformat_minor": 1
}
